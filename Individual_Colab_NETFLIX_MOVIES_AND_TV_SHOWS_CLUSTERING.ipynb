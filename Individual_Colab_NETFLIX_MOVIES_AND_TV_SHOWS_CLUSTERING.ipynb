{
  "nbformat": 4,
  "nbformat_minor": 0,
  "metadata": {
    "colab": {
      "name": "Individual Colab NETFLIX MOVIES AND TV SHOWS CLUSTERING.ipynb",
      "provenance": [],
      "collapsed_sections": [],
      "include_colab_link": true
    },
    "kernelspec": {
      "name": "python3",
      "display_name": "Python 3"
    },
    "language_info": {
      "name": "python"
    }
  },
  "cells": [
    {
      "cell_type": "markdown",
      "metadata": {
        "id": "view-in-github",
        "colab_type": "text"
      },
      "source": [
        "<a href=\"https://colab.research.google.com/github/shetehm/NETFLIX-MOVIES-AND-TV-SHOWS-CLUSTERING/blob/main/Individual_Colab_NETFLIX_MOVIES_AND_TV_SHOWS_CLUSTERING.ipynb\" target=\"_parent\"><img src=\"https://colab.research.google.com/assets/colab-badge.svg\" alt=\"Open In Colab\"/></a>"
      ]
    },
    {
      "cell_type": "markdown",
      "metadata": {
        "id": "rqVwrem-hr5o"
      },
      "source": [
        "**Contributor: Harshavardhan M. Shete**"
      ]
    },
    {
      "cell_type": "markdown",
      "metadata": {
        "id": "LGcl5Bv9ed6u"
      },
      "source": [
        "# **Problem Statement**"
      ]
    },
    {
      "cell_type": "markdown",
      "metadata": {
        "id": "8M5kyFaVjzXk"
      },
      "source": [
        "This dataset consists of tv shows and movies available on Netflix as of 2019. The dataset is collected from Flixable which is a third-party Netflix search engine.\n",
        "\n",
        "In 2018, they released an interesting report which shows that the number of TV shows on Netflix has nearly tripled since 2010. The streaming service’s number of movies has decreased by more than 2,000 titles since 2010, while its number of TV shows has nearly tripled. It will be interesting to explore what all other insights can be obtained from the same dataset.\n",
        "\n",
        "Integrating this dataset with other external datasets such as IMDB ratings, rotten tomatoes can also provide many interesting findings."
      ]
    },
    {
      "cell_type": "markdown",
      "metadata": {
        "id": "tLx5cJO8hzb1"
      },
      "source": [
        "## <b>In this  project, you are required to do </b>\n",
        "1. Exploratory Data Analysis \n",
        "\n",
        "2. Understanding what type content is available in different countries\n",
        "\n",
        "3. Is Netflix has increasingly focusing on TV rather than movies in recent years.\n",
        "4. Clustering similar content by matching text-based features\n",
        "\n"
      ]
    },
    {
      "cell_type": "markdown",
      "metadata": {
        "id": "AzGDqdC4fZ-b"
      },
      "source": [
        "# **Attribute Information**"
      ]
    },
    {
      "cell_type": "markdown",
      "metadata": {
        "id": "jhfLYargscGV"
      },
      "source": [
        "1. show_id : Unique ID for every Movie / Tv Show\n",
        "\n",
        "2. type : Identifier - A Movie or TV Show\n",
        "\n",
        "3. title : Title of the Movie / Tv Show\n",
        "\n",
        "4. director : Director of the Movie\n",
        "\n",
        "5. cast : Actors involved in the movie / show\n",
        "\n",
        "6. country : Country where the movie / show was produced\n",
        "\n",
        "7. date_added : Date it was added on Netflix\n",
        "\n",
        "8. release_year : Actual Releaseyear of the movie / show\n",
        "\n",
        "9. rating : TV Rating of the movie / show\n",
        "\n",
        "10. duration : Total Duration - in minutes or number of seasons\n",
        "\n",
        "11. listed_in : Genere\n",
        "\n",
        "12. description: The Summary description"
      ]
    },
    {
      "cell_type": "code",
      "metadata": {
        "id": "3GQnOkp6axZ_"
      },
      "source": [
        "# Importing the libraries\n",
        "import numpy as np\n",
        "import pandas as pd\n",
        "\n",
        "import matplotlib.pyplot as plt\n",
        "import warnings\n",
        "warnings.filterwarnings('ignore')\n",
        "import seaborn as sns"
      ],
      "execution_count": 1,
      "outputs": []
    },
    {
      "cell_type": "code",
      "metadata": {
        "colab": {
          "base_uri": "https://localhost:8080/"
        },
        "id": "jFnScW1kaxWI",
        "outputId": "73464343-ca45-4130-cfb3-d1b45a0ef7f5"
      },
      "source": [
        "from google.colab import drive\n",
        "drive.mount('/content/drive')"
      ],
      "execution_count": 2,
      "outputs": [
        {
          "output_type": "stream",
          "name": "stdout",
          "text": [
            "Mounted at /content/drive\n"
          ]
        }
      ]
    },
    {
      "cell_type": "code",
      "metadata": {
        "id": "OMTnta_waxUV"
      },
      "source": [
        "# Importing the dataset\n",
        "netflix_df = pd.read_csv('/content/drive/MyDrive/Colab Notebooks/Netflix Movies and TV Shows Clustering- Harshavardhan Shete/NETFLIX MOVIES AND TV SHOWS CLUSTERING.csv', encoding='unicode_escape')"
      ],
      "execution_count": 3,
      "outputs": []
    },
    {
      "cell_type": "markdown",
      "metadata": {
        "id": "TZRcJdpkbyXn"
      },
      "source": [
        "## **Exploratory Data Analysis**"
      ]
    },
    {
      "cell_type": "code",
      "metadata": {
        "colab": {
          "base_uri": "https://localhost:8080/"
        },
        "id": "guzYZS_RaxP-",
        "outputId": "88986e33-db49-4f99-d58e-c54248b0c6d3"
      },
      "source": [
        "netflix_df.shape"
      ],
      "execution_count": 4,
      "outputs": [
        {
          "output_type": "execute_result",
          "data": {
            "text/plain": [
              "(7787, 12)"
            ]
          },
          "metadata": {},
          "execution_count": 4
        }
      ]
    },
    {
      "cell_type": "code",
      "metadata": {
        "colab": {
          "base_uri": "https://localhost:8080/"
        },
        "id": "ivUUN4wfj6Nd",
        "outputId": "9882da89-9513-47bb-d257-45be60a81ebc"
      },
      "source": [
        "netflix_df.columns"
      ],
      "execution_count": 5,
      "outputs": [
        {
          "output_type": "execute_result",
          "data": {
            "text/plain": [
              "Index(['show_id', 'type', 'title', 'director', 'cast', 'country', 'date_added',\n",
              "       'release_year', 'rating', 'duration', 'listed_in', 'description'],\n",
              "      dtype='object')"
            ]
          },
          "metadata": {},
          "execution_count": 5
        }
      ]
    },
    {
      "cell_type": "code",
      "metadata": {
        "colab": {
          "base_uri": "https://localhost:8080/"
        },
        "id": "So4SNgOEaxOI",
        "outputId": "6e9ae187-de19-4d8d-f02d-c8e82b1f4aa7"
      },
      "source": [
        "netflix_df.info()"
      ],
      "execution_count": null,
      "outputs": [
        {
          "output_type": "stream",
          "name": "stdout",
          "text": [
            "<class 'pandas.core.frame.DataFrame'>\n",
            "RangeIndex: 7787 entries, 0 to 7786\n",
            "Data columns (total 12 columns):\n",
            " #   Column        Non-Null Count  Dtype \n",
            "---  ------        --------------  ----- \n",
            " 0   show_id       7787 non-null   object\n",
            " 1   type          7787 non-null   object\n",
            " 2   title         7787 non-null   object\n",
            " 3   director      5398 non-null   object\n",
            " 4   cast          7069 non-null   object\n",
            " 5   country       7280 non-null   object\n",
            " 6   date_added    7777 non-null   object\n",
            " 7   release_year  7787 non-null   int64 \n",
            " 8   rating        7780 non-null   object\n",
            " 9   duration      7787 non-null   object\n",
            " 10  listed_in     7787 non-null   object\n",
            " 11  description   7787 non-null   object\n",
            "dtypes: int64(1), object(11)\n",
            "memory usage: 730.2+ KB\n"
          ]
        }
      ]
    },
    {
      "cell_type": "code",
      "metadata": {
        "colab": {
          "base_uri": "https://localhost:8080/",
          "height": 405
        },
        "id": "FNIcViWRj_xk",
        "outputId": "959d202a-756a-4543-ab3d-50c11f2b67d3"
      },
      "source": [
        "netflix_df.describe(include='all')"
      ],
      "execution_count": null,
      "outputs": [
        {
          "output_type": "execute_result",
          "data": {
            "text/html": [
              "<div>\n",
              "<style scoped>\n",
              "    .dataframe tbody tr th:only-of-type {\n",
              "        vertical-align: middle;\n",
              "    }\n",
              "\n",
              "    .dataframe tbody tr th {\n",
              "        vertical-align: top;\n",
              "    }\n",
              "\n",
              "    .dataframe thead th {\n",
              "        text-align: right;\n",
              "    }\n",
              "</style>\n",
              "<table border=\"1\" class=\"dataframe\">\n",
              "  <thead>\n",
              "    <tr style=\"text-align: right;\">\n",
              "      <th></th>\n",
              "      <th>show_id</th>\n",
              "      <th>type</th>\n",
              "      <th>title</th>\n",
              "      <th>director</th>\n",
              "      <th>cast</th>\n",
              "      <th>country</th>\n",
              "      <th>date_added</th>\n",
              "      <th>release_year</th>\n",
              "      <th>rating</th>\n",
              "      <th>duration</th>\n",
              "      <th>listed_in</th>\n",
              "      <th>description</th>\n",
              "    </tr>\n",
              "  </thead>\n",
              "  <tbody>\n",
              "    <tr>\n",
              "      <th>count</th>\n",
              "      <td>7787</td>\n",
              "      <td>7787</td>\n",
              "      <td>7787</td>\n",
              "      <td>5398</td>\n",
              "      <td>7069</td>\n",
              "      <td>7280</td>\n",
              "      <td>7777</td>\n",
              "      <td>7787.000000</td>\n",
              "      <td>7780</td>\n",
              "      <td>7787</td>\n",
              "      <td>7787</td>\n",
              "      <td>7787</td>\n",
              "    </tr>\n",
              "    <tr>\n",
              "      <th>unique</th>\n",
              "      <td>7787</td>\n",
              "      <td>2</td>\n",
              "      <td>7787</td>\n",
              "      <td>4049</td>\n",
              "      <td>6831</td>\n",
              "      <td>681</td>\n",
              "      <td>1565</td>\n",
              "      <td>NaN</td>\n",
              "      <td>14</td>\n",
              "      <td>216</td>\n",
              "      <td>492</td>\n",
              "      <td>7769</td>\n",
              "    </tr>\n",
              "    <tr>\n",
              "      <th>top</th>\n",
              "      <td>s1414</td>\n",
              "      <td>Movie</td>\n",
              "      <td>Nightflyers</td>\n",
              "      <td>RaÃºl Campos, Jan Suter</td>\n",
              "      <td>David Attenborough</td>\n",
              "      <td>United States</td>\n",
              "      <td>January 1, 2020</td>\n",
              "      <td>NaN</td>\n",
              "      <td>TV-MA</td>\n",
              "      <td>1 Season</td>\n",
              "      <td>Documentaries</td>\n",
              "      <td>A surly septuagenarian gets another chance at ...</td>\n",
              "    </tr>\n",
              "    <tr>\n",
              "      <th>freq</th>\n",
              "      <td>1</td>\n",
              "      <td>5377</td>\n",
              "      <td>1</td>\n",
              "      <td>18</td>\n",
              "      <td>18</td>\n",
              "      <td>2555</td>\n",
              "      <td>118</td>\n",
              "      <td>NaN</td>\n",
              "      <td>2863</td>\n",
              "      <td>1608</td>\n",
              "      <td>334</td>\n",
              "      <td>3</td>\n",
              "    </tr>\n",
              "    <tr>\n",
              "      <th>mean</th>\n",
              "      <td>NaN</td>\n",
              "      <td>NaN</td>\n",
              "      <td>NaN</td>\n",
              "      <td>NaN</td>\n",
              "      <td>NaN</td>\n",
              "      <td>NaN</td>\n",
              "      <td>NaN</td>\n",
              "      <td>2013.932580</td>\n",
              "      <td>NaN</td>\n",
              "      <td>NaN</td>\n",
              "      <td>NaN</td>\n",
              "      <td>NaN</td>\n",
              "    </tr>\n",
              "    <tr>\n",
              "      <th>std</th>\n",
              "      <td>NaN</td>\n",
              "      <td>NaN</td>\n",
              "      <td>NaN</td>\n",
              "      <td>NaN</td>\n",
              "      <td>NaN</td>\n",
              "      <td>NaN</td>\n",
              "      <td>NaN</td>\n",
              "      <td>8.757395</td>\n",
              "      <td>NaN</td>\n",
              "      <td>NaN</td>\n",
              "      <td>NaN</td>\n",
              "      <td>NaN</td>\n",
              "    </tr>\n",
              "    <tr>\n",
              "      <th>min</th>\n",
              "      <td>NaN</td>\n",
              "      <td>NaN</td>\n",
              "      <td>NaN</td>\n",
              "      <td>NaN</td>\n",
              "      <td>NaN</td>\n",
              "      <td>NaN</td>\n",
              "      <td>NaN</td>\n",
              "      <td>1925.000000</td>\n",
              "      <td>NaN</td>\n",
              "      <td>NaN</td>\n",
              "      <td>NaN</td>\n",
              "      <td>NaN</td>\n",
              "    </tr>\n",
              "    <tr>\n",
              "      <th>25%</th>\n",
              "      <td>NaN</td>\n",
              "      <td>NaN</td>\n",
              "      <td>NaN</td>\n",
              "      <td>NaN</td>\n",
              "      <td>NaN</td>\n",
              "      <td>NaN</td>\n",
              "      <td>NaN</td>\n",
              "      <td>2013.000000</td>\n",
              "      <td>NaN</td>\n",
              "      <td>NaN</td>\n",
              "      <td>NaN</td>\n",
              "      <td>NaN</td>\n",
              "    </tr>\n",
              "    <tr>\n",
              "      <th>50%</th>\n",
              "      <td>NaN</td>\n",
              "      <td>NaN</td>\n",
              "      <td>NaN</td>\n",
              "      <td>NaN</td>\n",
              "      <td>NaN</td>\n",
              "      <td>NaN</td>\n",
              "      <td>NaN</td>\n",
              "      <td>2017.000000</td>\n",
              "      <td>NaN</td>\n",
              "      <td>NaN</td>\n",
              "      <td>NaN</td>\n",
              "      <td>NaN</td>\n",
              "    </tr>\n",
              "    <tr>\n",
              "      <th>75%</th>\n",
              "      <td>NaN</td>\n",
              "      <td>NaN</td>\n",
              "      <td>NaN</td>\n",
              "      <td>NaN</td>\n",
              "      <td>NaN</td>\n",
              "      <td>NaN</td>\n",
              "      <td>NaN</td>\n",
              "      <td>2018.000000</td>\n",
              "      <td>NaN</td>\n",
              "      <td>NaN</td>\n",
              "      <td>NaN</td>\n",
              "      <td>NaN</td>\n",
              "    </tr>\n",
              "    <tr>\n",
              "      <th>max</th>\n",
              "      <td>NaN</td>\n",
              "      <td>NaN</td>\n",
              "      <td>NaN</td>\n",
              "      <td>NaN</td>\n",
              "      <td>NaN</td>\n",
              "      <td>NaN</td>\n",
              "      <td>NaN</td>\n",
              "      <td>2021.000000</td>\n",
              "      <td>NaN</td>\n",
              "      <td>NaN</td>\n",
              "      <td>NaN</td>\n",
              "      <td>NaN</td>\n",
              "    </tr>\n",
              "  </tbody>\n",
              "</table>\n",
              "</div>"
            ],
            "text/plain": [
              "       show_id  ...                                        description\n",
              "count     7787  ...                                               7787\n",
              "unique    7787  ...                                               7769\n",
              "top      s1414  ...  A surly septuagenarian gets another chance at ...\n",
              "freq         1  ...                                                  3\n",
              "mean       NaN  ...                                                NaN\n",
              "std        NaN  ...                                                NaN\n",
              "min        NaN  ...                                                NaN\n",
              "25%        NaN  ...                                                NaN\n",
              "50%        NaN  ...                                                NaN\n",
              "75%        NaN  ...                                                NaN\n",
              "max        NaN  ...                                                NaN\n",
              "\n",
              "[11 rows x 12 columns]"
            ]
          },
          "metadata": {},
          "execution_count": 7
        }
      ]
    },
    {
      "cell_type": "code",
      "metadata": {
        "colab": {
          "base_uri": "https://localhost:8080/",
          "height": 287
        },
        "id": "oKi2cOwMaxH8",
        "outputId": "0e1505f2-c3a3-4376-d01b-33f2eb927b38"
      },
      "source": [
        "netflix_df.head()"
      ],
      "execution_count": null,
      "outputs": [
        {
          "output_type": "execute_result",
          "data": {
            "text/html": [
              "<div>\n",
              "<style scoped>\n",
              "    .dataframe tbody tr th:only-of-type {\n",
              "        vertical-align: middle;\n",
              "    }\n",
              "\n",
              "    .dataframe tbody tr th {\n",
              "        vertical-align: top;\n",
              "    }\n",
              "\n",
              "    .dataframe thead th {\n",
              "        text-align: right;\n",
              "    }\n",
              "</style>\n",
              "<table border=\"1\" class=\"dataframe\">\n",
              "  <thead>\n",
              "    <tr style=\"text-align: right;\">\n",
              "      <th></th>\n",
              "      <th>show_id</th>\n",
              "      <th>type</th>\n",
              "      <th>title</th>\n",
              "      <th>director</th>\n",
              "      <th>cast</th>\n",
              "      <th>country</th>\n",
              "      <th>date_added</th>\n",
              "      <th>release_year</th>\n",
              "      <th>rating</th>\n",
              "      <th>duration</th>\n",
              "      <th>listed_in</th>\n",
              "      <th>description</th>\n",
              "    </tr>\n",
              "  </thead>\n",
              "  <tbody>\n",
              "    <tr>\n",
              "      <th>0</th>\n",
              "      <td>s1</td>\n",
              "      <td>TV Show</td>\n",
              "      <td>3%</td>\n",
              "      <td>NaN</td>\n",
              "      <td>JoÃ£o Miguel, Bianca Comparato, Michel Gomes, ...</td>\n",
              "      <td>Brazil</td>\n",
              "      <td>August 14, 2020</td>\n",
              "      <td>2020</td>\n",
              "      <td>TV-MA</td>\n",
              "      <td>4 Seasons</td>\n",
              "      <td>International TV Shows, TV Dramas, TV Sci-Fi &amp;...</td>\n",
              "      <td>In a future where the elite inhabit an island ...</td>\n",
              "    </tr>\n",
              "    <tr>\n",
              "      <th>1</th>\n",
              "      <td>s2</td>\n",
              "      <td>Movie</td>\n",
              "      <td>7:19</td>\n",
              "      <td>Jorge Michel Grau</td>\n",
              "      <td>DemiÃ¡n Bichir, HÃ©ctor Bonilla, Oscar Serrano...</td>\n",
              "      <td>Mexico</td>\n",
              "      <td>December 23, 2016</td>\n",
              "      <td>2016</td>\n",
              "      <td>TV-MA</td>\n",
              "      <td>93 min</td>\n",
              "      <td>Dramas, International Movies</td>\n",
              "      <td>After a devastating earthquake hits Mexico Cit...</td>\n",
              "    </tr>\n",
              "    <tr>\n",
              "      <th>2</th>\n",
              "      <td>s3</td>\n",
              "      <td>Movie</td>\n",
              "      <td>23:59</td>\n",
              "      <td>Gilbert Chan</td>\n",
              "      <td>Tedd Chan, Stella Chung, Henley Hii, Lawrence ...</td>\n",
              "      <td>Singapore</td>\n",
              "      <td>December 20, 2018</td>\n",
              "      <td>2011</td>\n",
              "      <td>R</td>\n",
              "      <td>78 min</td>\n",
              "      <td>Horror Movies, International Movies</td>\n",
              "      <td>When an army recruit is found dead, his fellow...</td>\n",
              "    </tr>\n",
              "    <tr>\n",
              "      <th>3</th>\n",
              "      <td>s4</td>\n",
              "      <td>Movie</td>\n",
              "      <td>9</td>\n",
              "      <td>Shane Acker</td>\n",
              "      <td>Elijah Wood, John C. Reilly, Jennifer Connelly...</td>\n",
              "      <td>United States</td>\n",
              "      <td>November 16, 2017</td>\n",
              "      <td>2009</td>\n",
              "      <td>PG-13</td>\n",
              "      <td>80 min</td>\n",
              "      <td>Action &amp; Adventure, Independent Movies, Sci-Fi...</td>\n",
              "      <td>In a postapocalyptic world, rag-doll robots hi...</td>\n",
              "    </tr>\n",
              "    <tr>\n",
              "      <th>4</th>\n",
              "      <td>s5</td>\n",
              "      <td>Movie</td>\n",
              "      <td>21</td>\n",
              "      <td>Robert Luketic</td>\n",
              "      <td>Jim Sturgess, Kevin Spacey, Kate Bosworth, Aar...</td>\n",
              "      <td>United States</td>\n",
              "      <td>January 1, 2020</td>\n",
              "      <td>2008</td>\n",
              "      <td>PG-13</td>\n",
              "      <td>123 min</td>\n",
              "      <td>Dramas</td>\n",
              "      <td>A brilliant group of students become card-coun...</td>\n",
              "    </tr>\n",
              "  </tbody>\n",
              "</table>\n",
              "</div>"
            ],
            "text/plain": [
              "  show_id  ...                                        description\n",
              "0      s1  ...  In a future where the elite inhabit an island ...\n",
              "1      s2  ...  After a devastating earthquake hits Mexico Cit...\n",
              "2      s3  ...  When an army recruit is found dead, his fellow...\n",
              "3      s4  ...  In a postapocalyptic world, rag-doll robots hi...\n",
              "4      s5  ...  A brilliant group of students become card-coun...\n",
              "\n",
              "[5 rows x 12 columns]"
            ]
          },
          "metadata": {},
          "execution_count": 8
        }
      ]
    },
    {
      "cell_type": "code",
      "metadata": {
        "colab": {
          "base_uri": "https://localhost:8080/",
          "height": 371
        },
        "id": "icGAfuVjaxDZ",
        "outputId": "de188c9f-4c9e-4122-e8f6-7d0250738035"
      },
      "source": [
        "netflix_df.tail()"
      ],
      "execution_count": null,
      "outputs": [
        {
          "output_type": "execute_result",
          "data": {
            "text/html": [
              "<div>\n",
              "<style scoped>\n",
              "    .dataframe tbody tr th:only-of-type {\n",
              "        vertical-align: middle;\n",
              "    }\n",
              "\n",
              "    .dataframe tbody tr th {\n",
              "        vertical-align: top;\n",
              "    }\n",
              "\n",
              "    .dataframe thead th {\n",
              "        text-align: right;\n",
              "    }\n",
              "</style>\n",
              "<table border=\"1\" class=\"dataframe\">\n",
              "  <thead>\n",
              "    <tr style=\"text-align: right;\">\n",
              "      <th></th>\n",
              "      <th>show_id</th>\n",
              "      <th>type</th>\n",
              "      <th>title</th>\n",
              "      <th>director</th>\n",
              "      <th>cast</th>\n",
              "      <th>country</th>\n",
              "      <th>date_added</th>\n",
              "      <th>release_year</th>\n",
              "      <th>rating</th>\n",
              "      <th>duration</th>\n",
              "      <th>listed_in</th>\n",
              "      <th>description</th>\n",
              "    </tr>\n",
              "  </thead>\n",
              "  <tbody>\n",
              "    <tr>\n",
              "      <th>7782</th>\n",
              "      <td>s7783</td>\n",
              "      <td>Movie</td>\n",
              "      <td>Zozo</td>\n",
              "      <td>Josef Fares</td>\n",
              "      <td>Imad Creidi, Antoinette Turk, Elias Gergi, Car...</td>\n",
              "      <td>Sweden, Czech Republic, United Kingdom, Denmar...</td>\n",
              "      <td>October 19, 2020</td>\n",
              "      <td>2005</td>\n",
              "      <td>TV-MA</td>\n",
              "      <td>99 min</td>\n",
              "      <td>Dramas, International Movies</td>\n",
              "      <td>When Lebanon's Civil War deprives Zozo of his ...</td>\n",
              "    </tr>\n",
              "    <tr>\n",
              "      <th>7783</th>\n",
              "      <td>s7784</td>\n",
              "      <td>Movie</td>\n",
              "      <td>Zubaan</td>\n",
              "      <td>Mozez Singh</td>\n",
              "      <td>Vicky Kaushal, Sarah-Jane Dias, Raaghav Chanan...</td>\n",
              "      <td>India</td>\n",
              "      <td>March 2, 2019</td>\n",
              "      <td>2015</td>\n",
              "      <td>TV-14</td>\n",
              "      <td>111 min</td>\n",
              "      <td>Dramas, International Movies, Music &amp; Musicals</td>\n",
              "      <td>A scrappy but poor boy worms his way into a ty...</td>\n",
              "    </tr>\n",
              "    <tr>\n",
              "      <th>7784</th>\n",
              "      <td>s7785</td>\n",
              "      <td>Movie</td>\n",
              "      <td>Zulu Man in Japan</td>\n",
              "      <td>NaN</td>\n",
              "      <td>Nasty C</td>\n",
              "      <td>NaN</td>\n",
              "      <td>September 25, 2020</td>\n",
              "      <td>2019</td>\n",
              "      <td>TV-MA</td>\n",
              "      <td>44 min</td>\n",
              "      <td>Documentaries, International Movies, Music &amp; M...</td>\n",
              "      <td>In this documentary, South African rapper Nast...</td>\n",
              "    </tr>\n",
              "    <tr>\n",
              "      <th>7785</th>\n",
              "      <td>s7786</td>\n",
              "      <td>TV Show</td>\n",
              "      <td>Zumbo's Just Desserts</td>\n",
              "      <td>NaN</td>\n",
              "      <td>Adriano Zumbo, Rachel Khoo</td>\n",
              "      <td>Australia</td>\n",
              "      <td>October 31, 2020</td>\n",
              "      <td>2019</td>\n",
              "      <td>TV-PG</td>\n",
              "      <td>1 Season</td>\n",
              "      <td>International TV Shows, Reality TV</td>\n",
              "      <td>Dessert wizard Adriano Zumbo looks for the nex...</td>\n",
              "    </tr>\n",
              "    <tr>\n",
              "      <th>7786</th>\n",
              "      <td>s7787</td>\n",
              "      <td>Movie</td>\n",
              "      <td>ZZ TOP: THAT LITTLE OL' BAND FROM TEXAS</td>\n",
              "      <td>Sam Dunn</td>\n",
              "      <td>NaN</td>\n",
              "      <td>United Kingdom, Canada, United States</td>\n",
              "      <td>March 1, 2020</td>\n",
              "      <td>2019</td>\n",
              "      <td>TV-MA</td>\n",
              "      <td>90 min</td>\n",
              "      <td>Documentaries, Music &amp; Musicals</td>\n",
              "      <td>This documentary delves into the mystique behi...</td>\n",
              "    </tr>\n",
              "  </tbody>\n",
              "</table>\n",
              "</div>"
            ],
            "text/plain": [
              "     show_id  ...                                        description\n",
              "7782   s7783  ...  When Lebanon's Civil War deprives Zozo of his ...\n",
              "7783   s7784  ...  A scrappy but poor boy worms his way into a ty...\n",
              "7784   s7785  ...  In this documentary, South African rapper Nast...\n",
              "7785   s7786  ...  Dessert wizard Adriano Zumbo looks for the nex...\n",
              "7786   s7787  ...  This documentary delves into the mystique behi...\n",
              "\n",
              "[5 rows x 12 columns]"
            ]
          },
          "metadata": {},
          "execution_count": 16
        }
      ]
    },
    {
      "cell_type": "code",
      "metadata": {
        "colab": {
          "base_uri": "https://localhost:8080/"
        },
        "id": "h_suW2W1axBW",
        "outputId": "6b90ded7-71ae-47cf-8210-e20c5de73622"
      },
      "source": [
        "#Checking for duplicate records\n",
        "len(netflix_df[netflix_df.duplicated()])"
      ],
      "execution_count": null,
      "outputs": [
        {
          "output_type": "execute_result",
          "data": {
            "text/plain": [
              "0"
            ]
          },
          "metadata": {},
          "execution_count": 9
        }
      ]
    },
    {
      "cell_type": "markdown",
      "metadata": {
        "id": "746k1h8bmYGb"
      },
      "source": [
        "All records are unique, there are no duplicate records."
      ]
    },
    {
      "cell_type": "markdown",
      "metadata": {
        "id": "W2OIwXZMmv9c"
      },
      "source": [
        "## **Handling Missing Values**"
      ]
    },
    {
      "cell_type": "code",
      "metadata": {
        "colab": {
          "base_uri": "https://localhost:8080/",
          "height": 646
        },
        "id": "lE8NpM9naw84",
        "outputId": "070cad50-ef50-4bcc-b929-fa935018a20d"
      },
      "source": [
        "# heat matrix for missing values\n",
        "import missingno as msno\n",
        "fig = msno.matrix(netflix_df)\n",
        "fig_copy = fig.get_figure()\n",
        "fig_copy.savefig('plot.png', bbox_inches = 'tight')"
      ],
      "execution_count": null,
      "outputs": [
        {
          "output_type": "display_data",
          "data": {
            "image/png": "[encoded data removed]",
            "text/plain": [
              "<Figure size 1800x720 with 2 Axes>"
            ]
          },
          "metadata": {
            "needs_background": "light"
          }
        }
      ]
    },
    {
      "cell_type": "markdown",
      "metadata": {
        "id": "rvalTbGti62f"
      },
      "source": [
        "Horizontal lines in the bar of respective variable shows the presence of missing values. Director, Cast, Country and Date Added columns have presence of missing values."
      ]
    },
    {
      "cell_type": "code",
      "metadata": {
        "id": "PsIr7W9Haw66",
        "colab": {
          "base_uri": "https://localhost:8080/",
          "height": 418
        },
        "outputId": "ae8c1550-9ac0-49b6-b484-e5ab1fc36295"
      },
      "source": [
        "#Calculating the percentage of NULL of values in each column\n",
        "total = netflix_df.isnull().sum().sort_values(ascending=False)\n",
        "percent = (netflix_df.isnull().sum()/netflix_df.isnull().count()).sort_values(ascending=False) * 100\n",
        "missing_data = pd.concat([total, percent], axis=1, keys=['Total', 'Percent'])\n",
        "missing_data"
      ],
      "execution_count": 5,
      "outputs": [
        {
          "output_type": "execute_result",
          "data": {
            "text/html": [
              "<div>\n",
              "<style scoped>\n",
              "    .dataframe tbody tr th:only-of-type {\n",
              "        vertical-align: middle;\n",
              "    }\n",
              "\n",
              "    .dataframe tbody tr th {\n",
              "        vertical-align: top;\n",
              "    }\n",
              "\n",
              "    .dataframe thead th {\n",
              "        text-align: right;\n",
              "    }\n",
              "</style>\n",
              "<table border=\"1\" class=\"dataframe\">\n",
              "  <thead>\n",
              "    <tr style=\"text-align: right;\">\n",
              "      <th></th>\n",
              "      <th>Total</th>\n",
              "      <th>Percent</th>\n",
              "    </tr>\n",
              "  </thead>\n",
              "  <tbody>\n",
              "    <tr>\n",
              "      <th>director</th>\n",
              "      <td>2389</td>\n",
              "      <td>30.679337</td>\n",
              "    </tr>\n",
              "    <tr>\n",
              "      <th>cast</th>\n",
              "      <td>718</td>\n",
              "      <td>9.220496</td>\n",
              "    </tr>\n",
              "    <tr>\n",
              "      <th>country</th>\n",
              "      <td>507</td>\n",
              "      <td>6.510851</td>\n",
              "    </tr>\n",
              "    <tr>\n",
              "      <th>date_added</th>\n",
              "      <td>10</td>\n",
              "      <td>0.128419</td>\n",
              "    </tr>\n",
              "    <tr>\n",
              "      <th>rating</th>\n",
              "      <td>7</td>\n",
              "      <td>0.089893</td>\n",
              "    </tr>\n",
              "    <tr>\n",
              "      <th>description</th>\n",
              "      <td>0</td>\n",
              "      <td>0.000000</td>\n",
              "    </tr>\n",
              "    <tr>\n",
              "      <th>listed_in</th>\n",
              "      <td>0</td>\n",
              "      <td>0.000000</td>\n",
              "    </tr>\n",
              "    <tr>\n",
              "      <th>duration</th>\n",
              "      <td>0</td>\n",
              "      <td>0.000000</td>\n",
              "    </tr>\n",
              "    <tr>\n",
              "      <th>release_year</th>\n",
              "      <td>0</td>\n",
              "      <td>0.000000</td>\n",
              "    </tr>\n",
              "    <tr>\n",
              "      <th>title</th>\n",
              "      <td>0</td>\n",
              "      <td>0.000000</td>\n",
              "    </tr>\n",
              "    <tr>\n",
              "      <th>type</th>\n",
              "      <td>0</td>\n",
              "      <td>0.000000</td>\n",
              "    </tr>\n",
              "    <tr>\n",
              "      <th>show_id</th>\n",
              "      <td>0</td>\n",
              "      <td>0.000000</td>\n",
              "    </tr>\n",
              "  </tbody>\n",
              "</table>\n",
              "</div>"
            ],
            "text/plain": [
              "              Total    Percent\n",
              "director       2389  30.679337\n",
              "cast            718   9.220496\n",
              "country         507   6.510851\n",
              "date_added       10   0.128419\n",
              "rating            7   0.089893\n",
              "description       0   0.000000\n",
              "listed_in         0   0.000000\n",
              "duration          0   0.000000\n",
              "release_year      0   0.000000\n",
              "title             0   0.000000\n",
              "type              0   0.000000\n",
              "show_id           0   0.000000"
            ]
          },
          "metadata": {},
          "execution_count": 5
        }
      ]
    },
    {
      "cell_type": "markdown",
      "metadata": {
        "id": "wYySgQr5jcgB"
      },
      "source": [
        "Director column has 30.6% missing values, we cannot miss on all these records. Cast and country column also has significant number of missing values whereas the date_added and rating column has negligible number of miising values."
      ]
    },
    {
      "cell_type": "code",
      "metadata": {
        "id": "hfJmiYbtaw2l"
      },
      "source": [
        "#Replaing missing values in 'director' column with value 'unknown'\n",
        "netflix_df['director'].replace(np.nan, \"unknown\",inplace  = True)\n",
        "\n",
        "#Replaing missing values in 'cast' column with value 'unknown'\n",
        "netflix_df['cast'].replace(np.nan, \"unknown\",inplace  = True)\n",
        "\n",
        "#Replaing missing values in 'country' column with mode\n",
        "netflix_df['country']= netflix_df['country'].fillna(netflix_df['country'].mode()[0])\n",
        "\n",
        "\n",
        "#Replaing missing values in 'rating' column with value most frequent rating i.e. mode\n",
        "netflix_df['rating'] = netflix_df['rating'].fillna(netflix_df['rating'].mode()[0])"
      ],
      "execution_count": 4,
      "outputs": []
    },
    {
      "cell_type": "markdown",
      "metadata": {
        "id": "ZtZp_bEimStq"
      },
      "source": [
        "There is no logical way to handle null values in 'date' column and the null values are very negligible, thus dropping them."
      ]
    },
    {
      "cell_type": "code",
      "metadata": {
        "id": "tvqrCOSZaw0l"
      },
      "source": [
        "# Dropping the null values\n",
        "netflix_df.dropna(inplace=True)"
      ],
      "execution_count": 5,
      "outputs": []
    },
    {
      "cell_type": "code",
      "metadata": {
        "id": "ez5q0ZLzawwX",
        "colab": {
          "base_uri": "https://localhost:8080/",
          "height": 418
        },
        "outputId": "51f403cb-276f-4f3e-d56e-53bb1c6fd82a"
      },
      "source": [
        "#Calculating the percentage of NULL of values in each column after handling null values\n",
        "total = netflix_df.isnull().sum().sort_values(ascending=False)\n",
        "percent = (netflix_df.isnull().sum()/netflix_df.isnull().count()).sort_values(ascending=False) * 100\n",
        "missing_data = pd.concat([total, percent], axis=1, keys=['Total', 'Percent'])\n",
        "missing_data"
      ],
      "execution_count": 6,
      "outputs": [
        {
          "output_type": "execute_result",
          "data": {
            "text/html": [
              "<div>\n",
              "<style scoped>\n",
              "    .dataframe tbody tr th:only-of-type {\n",
              "        vertical-align: middle;\n",
              "    }\n",
              "\n",
              "    .dataframe tbody tr th {\n",
              "        vertical-align: top;\n",
              "    }\n",
              "\n",
              "    .dataframe thead th {\n",
              "        text-align: right;\n",
              "    }\n",
              "</style>\n",
              "<table border=\"1\" class=\"dataframe\">\n",
              "  <thead>\n",
              "    <tr style=\"text-align: right;\">\n",
              "      <th></th>\n",
              "      <th>Total</th>\n",
              "      <th>Percent</th>\n",
              "    </tr>\n",
              "  </thead>\n",
              "  <tbody>\n",
              "    <tr>\n",
              "      <th>description</th>\n",
              "      <td>0</td>\n",
              "      <td>0.0</td>\n",
              "    </tr>\n",
              "    <tr>\n",
              "      <th>listed_in</th>\n",
              "      <td>0</td>\n",
              "      <td>0.0</td>\n",
              "    </tr>\n",
              "    <tr>\n",
              "      <th>duration</th>\n",
              "      <td>0</td>\n",
              "      <td>0.0</td>\n",
              "    </tr>\n",
              "    <tr>\n",
              "      <th>rating</th>\n",
              "      <td>0</td>\n",
              "      <td>0.0</td>\n",
              "    </tr>\n",
              "    <tr>\n",
              "      <th>release_year</th>\n",
              "      <td>0</td>\n",
              "      <td>0.0</td>\n",
              "    </tr>\n",
              "    <tr>\n",
              "      <th>date_added</th>\n",
              "      <td>0</td>\n",
              "      <td>0.0</td>\n",
              "    </tr>\n",
              "    <tr>\n",
              "      <th>country</th>\n",
              "      <td>0</td>\n",
              "      <td>0.0</td>\n",
              "    </tr>\n",
              "    <tr>\n",
              "      <th>cast</th>\n",
              "      <td>0</td>\n",
              "      <td>0.0</td>\n",
              "    </tr>\n",
              "    <tr>\n",
              "      <th>director</th>\n",
              "      <td>0</td>\n",
              "      <td>0.0</td>\n",
              "    </tr>\n",
              "    <tr>\n",
              "      <th>title</th>\n",
              "      <td>0</td>\n",
              "      <td>0.0</td>\n",
              "    </tr>\n",
              "    <tr>\n",
              "      <th>type</th>\n",
              "      <td>0</td>\n",
              "      <td>0.0</td>\n",
              "    </tr>\n",
              "    <tr>\n",
              "      <th>show_id</th>\n",
              "      <td>0</td>\n",
              "      <td>0.0</td>\n",
              "    </tr>\n",
              "  </tbody>\n",
              "</table>\n",
              "</div>"
            ],
            "text/plain": [
              "              Total  Percent\n",
              "description       0      0.0\n",
              "listed_in         0      0.0\n",
              "duration          0      0.0\n",
              "rating            0      0.0\n",
              "release_year      0      0.0\n",
              "date_added        0      0.0\n",
              "country           0      0.0\n",
              "cast              0      0.0\n",
              "director          0      0.0\n",
              "title             0      0.0\n",
              "type              0      0.0\n",
              "show_id           0      0.0"
            ]
          },
          "metadata": {},
          "execution_count": 6
        }
      ]
    },
    {
      "cell_type": "code",
      "metadata": {
        "colab": {
          "base_uri": "https://localhost:8080/"
        },
        "id": "l4ERfLg3wkfJ",
        "outputId": "28c2f6ff-9cd3-4c7e-a4ae-88aaffdd9d01"
      },
      "source": [
        "netflix_df.shape"
      ],
      "execution_count": 9,
      "outputs": [
        {
          "output_type": "execute_result",
          "data": {
            "text/plain": [
              "(7777, 12)"
            ]
          },
          "metadata": {},
          "execution_count": 9
        }
      ]
    },
    {
      "cell_type": "markdown",
      "metadata": {
        "id": "69uqyv7QwtBn"
      },
      "source": [
        "After handling missing values, there are 7777 rows available in the dataset"
      ]
    },
    {
      "cell_type": "markdown",
      "metadata": {
        "id": "A8CX4ArmpiYw"
      },
      "source": [
        "# **Exploratory Data Analysis**"
      ]
    },
    {
      "cell_type": "code",
      "metadata": {
        "id": "rI_0XFjTawuU",
        "colab": {
          "base_uri": "https://localhost:8080/",
          "height": 97
        },
        "outputId": "47a3f8e6-ff64-4d74-ff7e-838efd65035e"
      },
      "source": [
        "netflix_df.head(1)"
      ],
      "execution_count": null,
      "outputs": [
        {
          "output_type": "execute_result",
          "data": {
            "text/html": [
              "<div>\n",
              "<style scoped>\n",
              "    .dataframe tbody tr th:only-of-type {\n",
              "        vertical-align: middle;\n",
              "    }\n",
              "\n",
              "    .dataframe tbody tr th {\n",
              "        vertical-align: top;\n",
              "    }\n",
              "\n",
              "    .dataframe thead th {\n",
              "        text-align: right;\n",
              "    }\n",
              "</style>\n",
              "<table border=\"1\" class=\"dataframe\">\n",
              "  <thead>\n",
              "    <tr style=\"text-align: right;\">\n",
              "      <th></th>\n",
              "      <th>show_id</th>\n",
              "      <th>type</th>\n",
              "      <th>title</th>\n",
              "      <th>director</th>\n",
              "      <th>cast</th>\n",
              "      <th>country</th>\n",
              "      <th>date_added</th>\n",
              "      <th>release_year</th>\n",
              "      <th>rating</th>\n",
              "      <th>duration</th>\n",
              "      <th>listed_in</th>\n",
              "      <th>description</th>\n",
              "    </tr>\n",
              "  </thead>\n",
              "  <tbody>\n",
              "    <tr>\n",
              "      <th>0</th>\n",
              "      <td>s1</td>\n",
              "      <td>TV Show</td>\n",
              "      <td>3%</td>\n",
              "      <td>unknown</td>\n",
              "      <td>JoÃ£o Miguel, Bianca Comparato, Michel Gomes, ...</td>\n",
              "      <td>Brazil</td>\n",
              "      <td>August 14, 2020</td>\n",
              "      <td>2020</td>\n",
              "      <td>TV-MA</td>\n",
              "      <td>4 Seasons</td>\n",
              "      <td>International TV Shows, TV Dramas, TV Sci-Fi &amp;...</td>\n",
              "      <td>In a future where the elite inhabit an island ...</td>\n",
              "    </tr>\n",
              "  </tbody>\n",
              "</table>\n",
              "</div>"
            ],
            "text/plain": [
              "  show_id  ...                                        description\n",
              "0      s1  ...  In a future where the elite inhabit an island ...\n",
              "\n",
              "[1 rows x 12 columns]"
            ]
          },
          "metadata": {},
          "execution_count": 17
        }
      ]
    },
    {
      "cell_type": "code",
      "metadata": {
        "id": "ilFShlR7awp7",
        "colab": {
          "base_uri": "https://localhost:8080/"
        },
        "outputId": "cd830094-3ab3-4735-f31f-dde2f16d4f51"
      },
      "source": [
        "netflix_df['type'].unique()"
      ],
      "execution_count": null,
      "outputs": [
        {
          "output_type": "execute_result",
          "data": {
            "text/plain": [
              "array(['TV Show', 'Movie'], dtype=object)"
            ]
          },
          "metadata": {},
          "execution_count": 18
        }
      ]
    },
    {
      "cell_type": "code",
      "metadata": {
        "colab": {
          "base_uri": "https://localhost:8080/",
          "height": 520
        },
        "id": "YyJbBfnqqwXr",
        "outputId": "5405c4a7-f605-486f-9acc-5096e09de7dd"
      },
      "source": [
        "#Visualization: Type of Content\n",
        "my_labels = ['Movies','TV Show']\n",
        "my_explode = [0.2,0]\n",
        "my_colors = ['green','red']\n",
        "sizes = netflix_df['type'].value_counts()\n",
        "fig = plt.figure(1, figsize=(9,9))\n",
        "plt.pie(sizes,labels = my_labels, labeldistance = 1.2,autopct='%1.1f%%', startangle = 25, textprops={'fontsize': 18} )\n",
        "plt.legend(title = 'Type of Content')\n",
        "plt.show()"
      ],
      "execution_count": 10,
      "outputs": [
        {
          "output_type": "display_data",
          "data": {
            "image/png": "[encoded data removed]",
            "text/plain": [
              "<Figure size 648x648 with 1 Axes>"
            ]
          },
          "metadata": {}
        }
      ]
    },
    {
      "cell_type": "code",
      "metadata": {
        "id": "fZvcWTiOawoC",
        "colab": {
          "base_uri": "https://localhost:8080/"
        },
        "outputId": "aac464bc-b2f2-4122-f966-e2dcbe410b67"
      },
      "source": [
        "netflix_df['country'].unique()"
      ],
      "execution_count": null,
      "outputs": [
        {
          "output_type": "execute_result",
          "data": {
            "text/plain": [
              "array(['Brazil', 'Mexico', 'Singapore', 'United States', 'Turkey',\n",
              "       'Egypt', 'India', 'Poland, United States', 'Thailand', 'Nigeria',\n",
              "       'unknown', 'Norway, Iceland, United States', 'United Kingdom',\n",
              "       'Japan', 'South Korea', 'Italy', 'Canada', 'Indonesia', 'Romania',\n",
              "       'Spain', 'Iceland', 'South Africa, Nigeria', 'France',\n",
              "       'United States, South Africa', 'Portugal, Spain',\n",
              "       'Hong Kong, China, Singapore', 'United States, Germany',\n",
              "       'South Africa, China, United States', 'Argentina',\n",
              "       'United States, France, Serbia', 'Germany',\n",
              "       'Denmark, France, Poland', 'Poland', 'Kenya',\n",
              "       'New Zealand, United Kingdom', 'Pakistan', 'Australia',\n",
              "       'Australia, United States', 'Mexico, United States',\n",
              "       'United States, China', 'China, Hong Kong', 'Taiwan',\n",
              "       'United States, United Kingdom', 'France, South Korea, Japan',\n",
              "       'United States, Canada', 'United Kingdom, United States',\n",
              "       'Netherlands, Denmark, South Africa', 'Canada, United States',\n",
              "       'Denmark', 'Hong Kong', 'France, Netherlands, Singapore', 'China',\n",
              "       'Philippines', 'United Kingdom, Spain, United States',\n",
              "       'United Arab Emirates, United States', 'Netherlands',\n",
              "       'United Kingdom, Hong Kong', 'Iran, France',\n",
              "       'United States, United Kingdom, France',\n",
              "       'United Kingdom, France, Belgium, United States, China',\n",
              "       'Argentina, Brazil, France, Poland, Germany, Denmark',\n",
              "       'Israel, United States', 'United States, Mexico',\n",
              "       'Uruguay, Argentina, Spain', 'Singapore, France',\n",
              "       'United Kingdom, United States, France, Germany',\n",
              "       'Turkey, United States', 'Bulgaria, United States',\n",
              "       'Australia, France', 'Hong Kong, Iceland, United States',\n",
              "       'United Arab Emirates', 'United States, Chile',\n",
              "       'Germany, France, Russia', 'Mauritius, South Africa',\n",
              "       'United States, Japan', 'Lebanon', 'United States, Bulgaria',\n",
              "       'Colombia', 'Uruguay, Argentina', 'Egypt, Algeria',\n",
              "       'France, Egypt', 'Uruguay', 'Soviet Union, India',\n",
              "       'Sweden, United States', 'South Africa', 'Malaysia',\n",
              "       'Ireland, United Kingdom, United States', 'Spain, Italy',\n",
              "       'United Kingdom, France, Germany',\n",
              "       'United States, Germany, Canada', 'United States, India',\n",
              "       'Japan, United States', 'Denmark, United States',\n",
              "       'South Africa, United States', 'Canada, Luxembourg',\n",
              "       'Serbia, United States', 'Canada, Nigeria',\n",
              "       'Iceland, Sweden, Belgium', 'Ireland, Canada',\n",
              "       'United States, Italy', 'Finland', 'India, Germany',\n",
              "       'China, Spain, South Korea, United States', 'Spain, Belgium',\n",
              "       'United Kingdom, Canada, United States, Germany',\n",
              "       'Brazil, Netherlands, United States, Colombia, Austria, Germany',\n",
              "       'France, Canada, Belgium',\n",
              "       'India, United Kingdom, China, Canada, Japan, South Korea, United States',\n",
              "       'France, Belgium', 'Indonesia, South Korea, Singapore', 'Norway',\n",
              "       'Peru', 'France, Senegal, Belgium', 'Canada, France', 'Chile',\n",
              "       'Romania, France, Switzerland, Germany',\n",
              "       'Bulgaria, United States, Spain, Canada', 'Sweden, Netherlands',\n",
              "       'Ghana', 'France, United States, Mexico',\n",
              "       'Australia, United Kingdom, United Arab Emirates, Canada',\n",
              "       'Singapore, United States', 'Japan, Canada, United States',\n",
              "       'Saudi Arabia',\n",
              "       'Australia, Armenia, Japan, Jordan, Mexico, Mongolia, New Zealand, Philippines, South Africa, Sweden, United States, Uruguay',\n",
              "       'United States, France', 'Norway, Denmark, Netherlands, Sweden',\n",
              "       'Namibia', 'Mexico, Finland', 'United States, Australia', 'Russia',\n",
              "       'Australia, Canada', 'United Kingdom, Ireland', 'Belgium, France',\n",
              "       'New Zealand', 'Uruguay, Spain, Mexico', 'South Korea, China',\n",
              "       'United States, Canada, Indonesia, United Kingdom, China, Singapore',\n",
              "       'India, Iran', 'United States, France, Japan',\n",
              "       'United Kingdom, France', 'Turkey, India', 'Philippines, Qatar',\n",
              "       'Vietnam', 'Ireland, Luxembourg, Belgium',\n",
              "       'Saudi Arabia, Syria, Egypt, Lebanon, Kuwait',\n",
              "       'Russia, United States', 'United Kingdom, Russia, United States',\n",
              "       'Argentina, Spain', 'Germany, Jordan, Netherlands',\n",
              "       'Hong Kong, China', 'Argentina, United States',\n",
              "       'France, Belgium, Spain', 'Germany, United States',\n",
              "       'Denmark, Sweden, Israel, United States',\n",
              "       'Ireland, United Kingdom', 'United States, Iceland',\n",
              "       'United Arab Emirates, United Kingdom, India', 'Sweden',\n",
              "       'Norway, Germany, Sweden', 'Finland, France', 'Denmark, Spain',\n",
              "       'United Kingdom, Russia',\n",
              "       'United States, United Kingdom, Australia',\n",
              "       'India, United Kingdom', 'United States, Canada, Ireland',\n",
              "       'Canada, United Kingdom',\n",
              "       'United States, Israel, Italy, South Africa',\n",
              "       'India, United States', 'United Kingdom, China',\n",
              "       'Indonesia, Singapore', 'Netherlands, Denmark, France, Germany',\n",
              "       'South Korea, Japan',\n",
              "       'Philippines, Canada, United Kingdom, United States',\n",
              "       'France, Malta, United States', 'Kuwait',\n",
              "       'United Kingdom, Pakistan', 'Ireland', 'France, New Zealand',\n",
              "       'United Kingdom, United States, Australia',\n",
              "       'United Kingdom, Czech Republic, United States, Germany, Bahamas',\n",
              "       'United States, Australia, China',\n",
              "       'China, Germany, India, United States', 'Germany, Sri Lanka',\n",
              "       'United States, Sweden', 'Canada, United States, Cayman Islands',\n",
              "       'India, France', 'United Kingdom, Canada',\n",
              "       'United States, India, Bangladesh',\n",
              "       'United States, Canada, France',\n",
              "       'Taiwan, China, France, United States', 'Brazil, France, Germany',\n",
              "       'United States,', 'Turkey, France, Germany, Poland',\n",
              "       'Australia, New Zealand, United States',\n",
              "       'Germany, United States, Hong Kong, Singapore',\n",
              "       'France, Germany, Switzerland', 'Mexico, Argentina',\n",
              "       'Italy, United States, Argentina',\n",
              "       'Germany, France, Luxembourg, United Kingdom, United States',\n",
              "       'Canada, United States, United Kingdom',\n",
              "       'United Kingdom, Canada, Italy', 'Czech Republic, France',\n",
              "       'Zimbabwe', 'United Kingdom, France, Germany, Spain',\n",
              "       'Taiwan, Hong Kong, United States, China', 'China, United States',\n",
              "       'Canada, Brazil', 'United Kingdom, Australia', 'Hungary',\n",
              "       'Germany, Australia', 'United Kingdom, Poland, United States',\n",
              "       'Bulgaria', 'Philippines, United States', 'Finland, Germany',\n",
              "       'United States, Thailand',\n",
              "       'Spain, Belgium, Switzerland, United States, China, United Kingdom',\n",
              "       'Denmark, Zimbabwe', 'United Kingdom, South Africa',\n",
              "       'Finland, Sweden, Norway, Latvia, Germany',\n",
              "       'United Kingdom, India',\n",
              "       'South Africa, United States, New Zealand, Canada',\n",
              "       'France, Qatar', 'France, Algeria',\n",
              "       'United States, Italy, United Kingdom, Liechtenstein',\n",
              "       'Denmark, France, Belgium, Italy, Netherlands, United States, United Kingdom',\n",
              "       'United States, Australia, Mexico',\n",
              "       'United Kingdom, Czech Republic, Germany, United States',\n",
              "       'Russia, Poland, Serbia', 'France, China, Japan, United States',\n",
              "       'United States, South Korea, China', 'Germany, Belgium',\n",
              "       'Chile, Argentina', 'China, United States, United Kingdom',\n",
              "       'Pakistan, Norway, United States',\n",
              "       'United Kingdom, Japan, United States', 'Philippines, Singapore',\n",
              "       'United States, Canada, Belgium, United Kingdom', 'Venezuela',\n",
              "       'Argentina, Uruguay, Serbia', 'United States, Mexico, Colombia',\n",
              "       'Colombia, Peru, United Kingdom', 'Brazil, United States',\n",
              "       'Czech Republic, United States',\n",
              "       'Canada, France, Italy, Morocco, United States',\n",
              "       'Canada, Spain, France', 'Hong Kong, United States',\n",
              "       'France, Canada, China, Cambodia', 'United States, Indonesia',\n",
              "       'Spain, France', 'Spain, Mexico, France', 'Spain, France, Italy',\n",
              "       'Spain, France, United States', 'United States, France, Canada',\n",
              "       'Israel', 'Italy, France', 'United Kingdom, Canada, United States',\n",
              "       'Cambodia, United States', 'China, Japan',\n",
              "       'United Arab Emirates, United States, United Kingdom',\n",
              "       'Argentina, Italy', 'United Kingdom, Israel, Russia',\n",
              "       'Italy, Switzerland, Albania, Poland', 'Spain, Cuba',\n",
              "       'United States, Brazil', 'United States, France, Mexico',\n",
              "       'United States, Nicaragua', 'Austria, Germany',\n",
              "       'United Arab Emirates, Jordan, Lebanon',\n",
              "       'France, United Kingdom, United States',\n",
              "       'United Kingdom, United States, Spain, Germany, Greece, Canada',\n",
              "       'France, Belgium, Luxembourg, Cambodia,', 'Italy, Turkey',\n",
              "       'Brazil, France', 'India, Turkey', 'Kenya, United States',\n",
              "       'United States, South Korea', 'South Korea, United States',\n",
              "       'Italy, Canada, France', 'Thailand, United States',\n",
              "       'United Kingdom, Denmark, Canada, Croatia', 'Netherlands, Belgium',\n",
              "       'United Kingdom, Canada, United States, Cayman Islands',\n",
              "       'Italy, Germany', 'United States, France, United Kingdom, Japan',\n",
              "       'United States, United Kingdom, Denmark, Sweden',\n",
              "       'United States, United Kingdom, Italy',\n",
              "       'United States, France, Canada, Spain', 'Uruguay, Guatemala',\n",
              "       'Germany, Australia, France, China',\n",
              "       'United States, United Kingdom, Japan',\n",
              "       'United States, United Kingdom, Canada',\n",
              "       'Italy, Switzerland, France, Germany',\n",
              "       'Russia, United States, China', 'United States, Canada, Germany',\n",
              "       'United States, Czech Republic', 'Ireland, United States',\n",
              "       'United States, United Arab Emirates',\n",
              "       'France, Australia, Germany', 'Hong Kong, China, United States',\n",
              "       'Lebanon, United Arab Emirates, France, Switzerland, Germany',\n",
              "       'United States, South Korea, Japan', 'Romania, United States',\n",
              "       'West Germany', 'United States, Ireland', 'Chile, Italy',\n",
              "       'Ireland, United Kingdom, Italy, United States', 'Belgium',\n",
              "       'Poland,', 'Slovenia, Croatia, Germany, Czech Republic, Qatar',\n",
              "       'Canada, United Kingdom, Netherlands',\n",
              "       'United Kingdom, United States, France',\n",
              "       'Indonesia, United Kingdom', 'United States, Spain, Germany',\n",
              "       'India, Japan', 'Switzerland, France, Belgium, United States',\n",
              "       'China, South Korea, United States',\n",
              "       'United Kingdom, France, Belgium',\n",
              "       'Canada, Ireland, United States',\n",
              "       'United Kingdom, United States, Dominican Republic',\n",
              "       'United States, Senegal', 'Germany, United Kingdom, United States',\n",
              "       'United States, Canada, United Kingdom',\n",
              "       'Canada, United States, France', 'United Kingdom, Germany, Canada',\n",
              "       'Argentina, France', 'South Africa, Germany, Netherlands, France',\n",
              "       'Canada, United States, United Kingdom, France, Luxembourg',\n",
              "       'Finland, Germany, Belgium',\n",
              "       'United States, United Kingdom, Germany', 'Taiwan, China',\n",
              "       'Cambodia', 'Spain, Portugal', 'Ireland, United States, France',\n",
              "       'Jordan', 'Austria', 'Germany, United States, Canada',\n",
              "       'United Kingdom, Germany, Canada, United States',\n",
              "       'United States, France, Canada, Lebanon, Qatar',\n",
              "       'Indonesia, Netherlands',\n",
              "       'Netherlands, Belgium, United Kingdom, United States',\n",
              "       'China, United States, Australia',\n",
              "       'France, Belgium, China, United States', 'Spain, United Kingdom',\n",
              "       'United States, Chile, Israel', 'Bangladesh',\n",
              "       'United Kingdom, Norway, Denmark, Germany, Sweden',\n",
              "       'United States, Japan, Canada', 'Norway, Denmark, Sweden',\n",
              "       'China, India, Nepal', 'United States, Argentina',\n",
              "       'Mexico, United States, Spain, Colombia',\n",
              "       'Colombia, Mexico, United States',\n",
              "       'United Kingdom, Belgium, Sweden', 'Nigeria, United Kingdom',\n",
              "       'United Kingdom, South Korea', 'United States, Taiwan',\n",
              "       'Netherlands, Belgium, Germany, Jordan', 'France, Canada',\n",
              "       'United Kingdom, France, United States',\n",
              "       'Denmark, Singapore, Canada, United States', 'Denmark, China',\n",
              "       'Malaysia, Singapore, Hong Kong', 'Norway, United States',\n",
              "       'United States, Philippines', 'United States, Greece, Brazil',\n",
              "       'France, United States', 'South Korea, France',\n",
              "       'United States, Australia, Samoa, United Kingdom',\n",
              "       'Canada, South Africa', 'United Kingdom, Italy',\n",
              "       'Germany, United Kingdom', 'China, United Kingdom',\n",
              "       'Argentina, Chile, Peru', 'United States, Russia',\n",
              "       'Uruguay, Germany', 'Turkey, Azerbaijan',\n",
              "       'United States, China, Hong Kong',\n",
              "       'Canada, Germany, France, United States',\n",
              "       'Argentina, United States, Mexico',\n",
              "       'France, United Kingdom, India', 'China, Taiwan',\n",
              "       'Italy, United Kingdom, France', 'Poland, West Germany',\n",
              "       'Germany, United States, Sweden', 'Canada, Spain',\n",
              "       'United Kingdom, France, Belgium, United States', 'France, Japan',\n",
              "       'Netherlands, Germany, Italy, Canada', 'United States, Cambodia',\n",
              "       'United States, Greece', 'United States, China, Colombia',\n",
              "       'United States, Spain, Italy',\n",
              "       'Norway, United Kingdom, France, Ireland',\n",
              "       'United States, Bermuda, Ecuador', 'United Kingdom, Poland',\n",
              "       'China, Canada, United States', 'United States, Spain',\n",
              "       'India, Mexico', 'United Kingdom, West Germany',\n",
              "       'Pakistan, United States', 'Israel, Sweden, Germany, Netherlands',\n",
              "       'Chile, United States, France', 'France, Morocco',\n",
              "       'United Kingdom, Germany', 'Georgia, Germany, France',\n",
              "       'Switzerland, France', 'Turkey, South Korea', 'Italy, India',\n",
              "       'United States, Botswana', 'United States, Colombia, Mexico',\n",
              "       'Chile, Argentina, France, Spain, United States',\n",
              "       'Puerto Rico, United States, Colombia', 'United States, Nigeria',\n",
              "       'Germany, United States, France',\n",
              "       'Spain, Germany, Denmark, United States',\n",
              "       'United Kingdom, United States, Japan',\n",
              "       'Netherlands, United States',\n",
              "       'United States, India, South Korea, China',\n",
              "       'Denmark, Germany, Belgium, United Kingdom, France',\n",
              "       'Denmark, Germany, Belgium, United Kingdom, France, Sweden',\n",
              "       'France, Switzerland, Spain, United States, United Arab Emirates',\n",
              "       'Norway, Sweden', 'United States, Ireland, United Kingdom, India',\n",
              "       'United Kingdom, Singapore', 'Spain, Germany',\n",
              "       'Germany, Czech Republic',\n",
              "       'Denmark, Brazil, France, Portugal, Sweden',\n",
              "       'Brazil, India, China, United States', 'India, Germany, Austria',\n",
              "       'Italy, United States', 'Denmark, France, United States, Sweden',\n",
              "       'Australia, Iraq', 'China, Morocco, Hong Kong', 'Spain, Colombia',\n",
              "       'Australia, United Arab Emirates',\n",
              "       'Canada, United States, Germany', 'France, Belgium, Italy',\n",
              "       'United Kingdom, Thailand', 'Venezuela, Colombia',\n",
              "       'France, Luxembourg, Canada', 'India, Nepal', 'Mexico, Spain',\n",
              "       'Colombia, United States', 'Colombia, Mexico',\n",
              "       'France, Germany, Czech Republic, Belgium',\n",
              "       'Germany, China, United Kingdom', 'Canada, Hungary, United States',\n",
              "       'Pakistan, United Arab Emirates', 'France, United Kingdom',\n",
              "       'Spain, United Kingdom, United States', 'United Kingdom, Kenya',\n",
              "       'United States, Norway, Canada', 'Canada, United States, Ireland',\n",
              "       'Switzerland, Vatican City, Italy, Germany, France',\n",
              "       'Portugal, France, Poland, United States',\n",
              "       'France, Japan, United States', 'United States, New Zealand',\n",
              "       'United States, New Zealand, Japan',\n",
              "       'United States, Netherlands, Japan, France', 'India, Switzerland',\n",
              "       'Canada, India', 'Canada, Japan, United States',\n",
              "       'United States, Morocco', 'United States, Mexico, Spain, Malta',\n",
              "       'Norway, Denmark', 'South Korea, Canada, United States, China',\n",
              "       'Singapore, Japan, France',\n",
              "       'Canada, Mexico, Germany, South Africa',\n",
              "       'United Kingdom, United States, Canada',\n",
              "       'Germany, France, United States, Canada, United Kingdom',\n",
              "       'Peru, Germany, Norway', 'Singapore, Malaysia',\n",
              "       'United States, Uruguay', 'India, Canada',\n",
              "       'Ireland, Canada, United Kingdom, United States',\n",
              "       'United States, Germany, Australia', 'Senegal',\n",
              "       'Israel, Germany, France', 'Australia, France, Ireland',\n",
              "       'South Africa, Angola', 'Austria, Czech Republic',\n",
              "       'Australia, India', 'United States, United Kingdom, Canada, Japan',\n",
              "       'Sweden, United Kingdom, Finland', 'Hong Kong, Taiwan',\n",
              "       'United States, United Kingdom, Spain, South Korea',\n",
              "       'South Korea, China, United States', 'Guatemala', 'Ukraine',\n",
              "       'United States, United Kingdom, Canada, China',\n",
              "       'Italy, South Africa, West Germany, Australia, United States',\n",
              "       'United Kingdom, Finland, Germany',\n",
              "       'South Africa, United States, Germany',\n",
              "       'United States, Germany, United Kingdom, Australia',\n",
              "       'India, Soviet Union', 'Italy, France, Switzerland',\n",
              "       'Canada, France, United States', 'United States, Colombia',\n",
              "       'India, Malaysia', 'Switzerland, United States',\n",
              "       'Thailand, Canada, United States',\n",
              "       'China, Hong Kong, United States', 'United Kingdom, New Zealand',\n",
              "       'United Kingdom, France, Germany, United States',\n",
              "       'South Korea, Czech Republic',\n",
              "       'Czech Republic, United Kingdom, France',\n",
              "       'Australia, United Kingdom, Canada',\n",
              "       'Canada, United Kingdom, United States', 'United States, Hungary',\n",
              "       'Jamaica, United States', 'Switzerland',\n",
              "       'Australia, United Kingdom, United States, New Zealand, Italy, France',\n",
              "       'France, United States, Canada', 'Australia, United Kingdom',\n",
              "       'United States, Denmark',\n",
              "       'United Kingdom, France, Canada, Belgium, United States',\n",
              "       'Denmark, United Kingdom, Sweden', 'Belarus', 'Cyprus',\n",
              "       'Lebanon, United States, United Arab Emirates',\n",
              "       'United States, Hong Kong', 'United States, Kazakhstan',\n",
              "       'Argentina, France, United States, Germany, Qatar',\n",
              "       'United States, Germany, United Kingdom',\n",
              "       'United States, Germany, United Kingdom, Italy',\n",
              "       'United States, New Zealand, United Kingdom',\n",
              "       'Finland, United States', 'Spain, France, Uruguay',\n",
              "       'France, Belgium, United States', 'France, Canada, United States',\n",
              "       'Spain, Argentina', 'United Kingdom, India, United States',\n",
              "       'Chile, France',\n",
              "       'United States, United Kingdom, France, Germany, Japan',\n",
              "       'Canada, Norway', 'United States, Hungary, Ireland, Canada',\n",
              "       'United States, Canada, China', 'United Kingdom, Malawi',\n",
              "       'Ireland, Canada, Luxembourg, United States, United Kingdom, Philippines, India',\n",
              "       'United States, Czech Republic, United Kingdom',\n",
              "       'Ghana, United States', 'Israel, Germany', 'Spain, Mexico',\n",
              "       'Mexico, France', 'Brazil, United Kingdom',\n",
              "       'France, Belgium, Luxembourg, Romania, Canada, United States',\n",
              "       'Israel, Germany, Poland, Luxembourg, Belgium, France, United States',\n",
              "       'France, Germany', 'United States, Malta, France, United Kingdom',\n",
              "       'United Kingdom, United States, Germany, Denmark, Belgium, Japan',\n",
              "       'Austria, United States', 'Canada, Australia',\n",
              "       'Greece, United States',\n",
              "       'United Kingdom, France, Belgium, Canada, United States',\n",
              "       'Argentina, Chile', 'Czech Republic, Slovakia',\n",
              "       'United Kingdom, Germany, United States, France',\n",
              "       'United Kingdom, Lithuania', 'Egypt, France',\n",
              "       'Spain, France, Canada', 'United States, Greece, United Kingdom',\n",
              "       'United Kingdom, China, United States, India', 'Taiwan, Malaysia',\n",
              "       'United States, Sweden, Norway',\n",
              "       'United Kingdom, United States, Morocco',\n",
              "       'United States, United Kingdom, Morocco',\n",
              "       'United States, China, Canada', 'Spain, Canada, United States',\n",
              "       'Canada, Belgium', 'United States, India, United Arab Emirates',\n",
              "       'United Kingdom, Canada, France, United States',\n",
              "       'Spain, Thailand, United States', 'Canada, Germany, South Africa',\n",
              "       'India, Germany, France',\n",
              "       'United States, Israel, United Kingdom, Canada',\n",
              "       'United Kingdom, Hungary, Australia', 'Lebanon, France',\n",
              "       'Belgium, Ireland, Netherlands, Germany, Afghanistan',\n",
              "       'Chile, Peru', 'Paraguay, Argentina',\n",
              "       'United Kingdom, Italy, Israel, Peru, United States',\n",
              "       'Norway, Germany', 'France, Canada, Italy, United States, China',\n",
              "       'Netherlands, Germany, Denmark, United Kingdom', 'France, Lebanon',\n",
              "       'Ireland, United Kingdom, Greece, France, Netherlands',\n",
              "       'Denmark, Indonesia, Finland, Norway, United Kingdom, Israel, France, United States, Germany, Netherlands',\n",
              "       'New Zealand, United States', 'Argentina, Uruguay, Spain, France',\n",
              "       'United Kingdom, Germany, United States',\n",
              "       'United States, Australia, South Africa, United Kingdom',\n",
              "       'Italy, Belgium', 'United States, Germany, Mexico',\n",
              "       'Chile, Spain, Argentina, Germany', 'Germany, Italy',\n",
              "       'United Kingdom, Nigeria',\n",
              "       'Belgium, United Kingdom, United States', 'Australia, New Zealand',\n",
              "       'Spain, Switzerland', 'Indonesia, United States',\n",
              "       'Canada, South Korea, United States',\n",
              "       'France, Iran, United States', 'Croatia',\n",
              "       'Somalia, Kenya, Sudan, South Africa, United States',\n",
              "       'Ireland, France, Iceland, United States, Mexico, Belgium, United Kingdom, Hong Kong',\n",
              "       'Spain, United States', 'United States, Canada, Japan, Panama',\n",
              "       'United Kingdom, Spain, Belgium', 'Serbia, South Korea, Slovenia',\n",
              "       'Denmark, United Kingdom, South Africa, Sweden, Belgium',\n",
              "       'Germany, Canada, United States', 'Ireland, South Africa',\n",
              "       'Canada, Germany', 'Spain, France, Canada, United States',\n",
              "       'India, United Kingdom, Canada, United States',\n",
              "       'United States, Belgium, Canada',\n",
              "       'United States, France, Canada, Belgium',\n",
              "       'United Kingdom, Egypt, United States',\n",
              "       'United Kingdom, Germany, United Arab Emirates, New Zealand',\n",
              "       'United Kingdom, France, United States, Belgium, Luxembourg, China, Germany',\n",
              "       'United Kingdom, Spain, United States, Germany',\n",
              "       'United States, France, Italy, United Kingdom', 'Georgia',\n",
              "       'United States, United Kingdom, India',\n",
              "       'Ireland, Canada, United States, United Kingdom',\n",
              "       'New Zealand, United Kingdom, Australia', 'United States, Poland',\n",
              "       'United Arab Emirates, Romania',\n",
              "       'United Kingdom, Australia, Canada, United States',\n",
              "       'Mexico, Netherlands', 'Spain, Italy, Argentina',\n",
              "       'Germany, United States, Italy', 'United States, Venezuela',\n",
              "       'United Kingdom, Canada, Japan', 'Canada, Japan, Netherlands',\n",
              "       'United Kingdom, United States, Czech Republic',\n",
              "       'United Kingdom, China, United States',\n",
              "       'United Kingdom, Brazil, Germany',\n",
              "       'Thailand, China, United States',\n",
              "       'United Kingdom, Namibia, South Africa, Zimbabwe, United States',\n",
              "       'United Kingdom, South Africa, Australia, United States',\n",
              "       'Canada, United States, India, United Kingdom',\n",
              "       'United States, Brazil, South Korea, Mexico, Japan, Germany',\n",
              "       'France, Lebanon, United Kingdom',\n",
              "       'United Kingdom, Jordan, Qatar, Iran',\n",
              "       'Switzerland, United Kingdom, United States',\n",
              "       'Belgium, Netherlands',\n",
              "       'United Kingdom, Germany, France, United States',\n",
              "       'Romania, United Kingdom', 'Lebanon, Qatar',\n",
              "       'United Kingdom, India, Sweden', 'United Kingdom, Belgium',\n",
              "       'India, Pakistan', 'United Kingdom,',\n",
              "       'Saudi Arabia, Netherlands, Germany, Jordan, United Arab Emirates, United States',\n",
              "       'France, Brazil, Spain, Belgium',\n",
              "       'United States, Brazil, India, Uganda, China',\n",
              "       'United Kingdom, Ireland, United States',\n",
              "       'Lebanon, Canada, France', 'India, Australia',\n",
              "       'Austria, Iraq, United States', 'France, Norway, Lebanon, Belgium',\n",
              "       'United Kingdom, France, United States, Belgium',\n",
              "       'Saudi Arabia, United Arab Emirates',\n",
              "       'Peru, United States, United Kingdom',\n",
              "       'Germany, United States, United Kingdom, Canada',\n",
              "       'Uruguay, Argentina, Germany, Spain',\n",
              "       'France, Luxembourg, United States', 'United Kingdom, Spain',\n",
              "       'Canada, India, Thailand, United States, United Arab Emirates',\n",
              "       'Romania, Bulgaria, Hungary',\n",
              "       'United States, East Germany, West Germany',\n",
              "       'France, Netherlands, South Africa, Finland',\n",
              "       'United Kingdom, Ukraine, United States',\n",
              "       'Egypt, Austria, United States', 'Russia, Spain',\n",
              "       'Croatia, Slovenia, Serbia, Montenegro', 'Japan, Canada',\n",
              "       'United States, France, South Korea, Indonesia',\n",
              "       'United Arab Emirates, Jordan',\n",
              "       'Sweden, Czech Republic, United Kingdom, Denmark, Netherlands'],\n",
              "      dtype=object)"
            ]
          },
          "metadata": {},
          "execution_count": 26
        }
      ]
    },
    {
      "cell_type": "markdown",
      "metadata": {
        "id": "2E2YyHVXsYqV"
      },
      "source": [
        "There are multiple valued in the country coluns for each record. Considering the first value in the list as a country of origin."
      ]
    },
    {
      "cell_type": "code",
      "metadata": {
        "id": "QQrG4I5zawj0"
      },
      "source": [
        "#Creating a new feature 'origin_Country'\n",
        "netflix_df['origin_Country']= netflix_df['country'].apply(lambda x: x.split(\",\")[0])"
      ],
      "execution_count": 7,
      "outputs": []
    },
    {
      "cell_type": "code",
      "metadata": {
        "id": "z7L_R1nSawiE",
        "colab": {
          "base_uri": "https://localhost:8080/",
          "height": 998
        },
        "outputId": "f54c96dc-8c8d-4f38-b422-7807d246fe1b"
      },
      "source": [
        "netflix_df.head(15)"
      ],
      "execution_count": 12,
      "outputs": [
        {
          "output_type": "execute_result",
          "data": {
            "text/html": [
              "<div>\n",
              "<style scoped>\n",
              "    .dataframe tbody tr th:only-of-type {\n",
              "        vertical-align: middle;\n",
              "    }\n",
              "\n",
              "    .dataframe tbody tr th {\n",
              "        vertical-align: top;\n",
              "    }\n",
              "\n",
              "    .dataframe thead th {\n",
              "        text-align: right;\n",
              "    }\n",
              "</style>\n",
              "<table border=\"1\" class=\"dataframe\">\n",
              "  <thead>\n",
              "    <tr style=\"text-align: right;\">\n",
              "      <th></th>\n",
              "      <th>show_id</th>\n",
              "      <th>type</th>\n",
              "      <th>title</th>\n",
              "      <th>director</th>\n",
              "      <th>cast</th>\n",
              "      <th>country</th>\n",
              "      <th>date_added</th>\n",
              "      <th>release_year</th>\n",
              "      <th>rating</th>\n",
              "      <th>duration</th>\n",
              "      <th>listed_in</th>\n",
              "      <th>description</th>\n",
              "      <th>origin_Country</th>\n",
              "    </tr>\n",
              "  </thead>\n",
              "  <tbody>\n",
              "    <tr>\n",
              "      <th>0</th>\n",
              "      <td>s1</td>\n",
              "      <td>TV Show</td>\n",
              "      <td>3%</td>\n",
              "      <td>unknown</td>\n",
              "      <td>JoÃ£o Miguel, Bianca Comparato, Michel Gomes, ...</td>\n",
              "      <td>Brazil</td>\n",
              "      <td>August 14, 2020</td>\n",
              "      <td>2020</td>\n",
              "      <td>TV-MA</td>\n",
              "      <td>4 Seasons</td>\n",
              "      <td>International TV Shows, TV Dramas, TV Sci-Fi &amp;...</td>\n",
              "      <td>In a future where the elite inhabit an island ...</td>\n",
              "      <td>Brazil</td>\n",
              "    </tr>\n",
              "    <tr>\n",
              "      <th>1</th>\n",
              "      <td>s2</td>\n",
              "      <td>Movie</td>\n",
              "      <td>7:19</td>\n",
              "      <td>Jorge Michel Grau</td>\n",
              "      <td>DemiÃ¡n Bichir, HÃ©ctor Bonilla, Oscar Serrano...</td>\n",
              "      <td>Mexico</td>\n",
              "      <td>December 23, 2016</td>\n",
              "      <td>2016</td>\n",
              "      <td>TV-MA</td>\n",
              "      <td>93 min</td>\n",
              "      <td>Dramas, International Movies</td>\n",
              "      <td>After a devastating earthquake hits Mexico Cit...</td>\n",
              "      <td>Mexico</td>\n",
              "    </tr>\n",
              "    <tr>\n",
              "      <th>2</th>\n",
              "      <td>s3</td>\n",
              "      <td>Movie</td>\n",
              "      <td>23:59</td>\n",
              "      <td>Gilbert Chan</td>\n",
              "      <td>Tedd Chan, Stella Chung, Henley Hii, Lawrence ...</td>\n",
              "      <td>Singapore</td>\n",
              "      <td>December 20, 2018</td>\n",
              "      <td>2011</td>\n",
              "      <td>R</td>\n",
              "      <td>78 min</td>\n",
              "      <td>Horror Movies, International Movies</td>\n",
              "      <td>When an army recruit is found dead, his fellow...</td>\n",
              "      <td>Singapore</td>\n",
              "    </tr>\n",
              "    <tr>\n",
              "      <th>3</th>\n",
              "      <td>s4</td>\n",
              "      <td>Movie</td>\n",
              "      <td>9</td>\n",
              "      <td>Shane Acker</td>\n",
              "      <td>Elijah Wood, John C. Reilly, Jennifer Connelly...</td>\n",
              "      <td>United States</td>\n",
              "      <td>November 16, 2017</td>\n",
              "      <td>2009</td>\n",
              "      <td>PG-13</td>\n",
              "      <td>80 min</td>\n",
              "      <td>Action &amp; Adventure, Independent Movies, Sci-Fi...</td>\n",
              "      <td>In a postapocalyptic world, rag-doll robots hi...</td>\n",
              "      <td>United States</td>\n",
              "    </tr>\n",
              "    <tr>\n",
              "      <th>4</th>\n",
              "      <td>s5</td>\n",
              "      <td>Movie</td>\n",
              "      <td>21</td>\n",
              "      <td>Robert Luketic</td>\n",
              "      <td>Jim Sturgess, Kevin Spacey, Kate Bosworth, Aar...</td>\n",
              "      <td>United States</td>\n",
              "      <td>January 1, 2020</td>\n",
              "      <td>2008</td>\n",
              "      <td>PG-13</td>\n",
              "      <td>123 min</td>\n",
              "      <td>Dramas</td>\n",
              "      <td>A brilliant group of students become card-coun...</td>\n",
              "      <td>United States</td>\n",
              "    </tr>\n",
              "    <tr>\n",
              "      <th>5</th>\n",
              "      <td>s6</td>\n",
              "      <td>TV Show</td>\n",
              "      <td>46</td>\n",
              "      <td>Serdar Akar</td>\n",
              "      <td>Erdal BeÅikÃ§ioÄlu, Yasemin Allen, Melis Bir...</td>\n",
              "      <td>Turkey</td>\n",
              "      <td>July 1, 2017</td>\n",
              "      <td>2016</td>\n",
              "      <td>TV-MA</td>\n",
              "      <td>1 Season</td>\n",
              "      <td>International TV Shows, TV Dramas, TV Mysteries</td>\n",
              "      <td>A genetics professor experiments with a treatm...</td>\n",
              "      <td>Turkey</td>\n",
              "    </tr>\n",
              "    <tr>\n",
              "      <th>6</th>\n",
              "      <td>s7</td>\n",
              "      <td>Movie</td>\n",
              "      <td>122</td>\n",
              "      <td>Yasir Al Yasiri</td>\n",
              "      <td>Amina Khalil, Ahmed Dawood, Tarek Lotfy, Ahmed...</td>\n",
              "      <td>Egypt</td>\n",
              "      <td>June 1, 2020</td>\n",
              "      <td>2019</td>\n",
              "      <td>TV-MA</td>\n",
              "      <td>95 min</td>\n",
              "      <td>Horror Movies, International Movies</td>\n",
              "      <td>After an awful accident, a couple admitted to ...</td>\n",
              "      <td>Egypt</td>\n",
              "    </tr>\n",
              "    <tr>\n",
              "      <th>7</th>\n",
              "      <td>s8</td>\n",
              "      <td>Movie</td>\n",
              "      <td>187</td>\n",
              "      <td>Kevin Reynolds</td>\n",
              "      <td>Samuel L. Jackson, John Heard, Kelly Rowan, Cl...</td>\n",
              "      <td>United States</td>\n",
              "      <td>November 1, 2019</td>\n",
              "      <td>1997</td>\n",
              "      <td>R</td>\n",
              "      <td>119 min</td>\n",
              "      <td>Dramas</td>\n",
              "      <td>After one of his high school students attacks ...</td>\n",
              "      <td>United States</td>\n",
              "    </tr>\n",
              "    <tr>\n",
              "      <th>8</th>\n",
              "      <td>s9</td>\n",
              "      <td>Movie</td>\n",
              "      <td>706</td>\n",
              "      <td>Shravan Kumar</td>\n",
              "      <td>Divya Dutta, Atul Kulkarni, Mohan Agashe, Anup...</td>\n",
              "      <td>India</td>\n",
              "      <td>April 1, 2019</td>\n",
              "      <td>2019</td>\n",
              "      <td>TV-14</td>\n",
              "      <td>118 min</td>\n",
              "      <td>Horror Movies, International Movies</td>\n",
              "      <td>When a doctor goes missing, his psychiatrist w...</td>\n",
              "      <td>India</td>\n",
              "    </tr>\n",
              "    <tr>\n",
              "      <th>9</th>\n",
              "      <td>s10</td>\n",
              "      <td>Movie</td>\n",
              "      <td>1920</td>\n",
              "      <td>Vikram Bhatt</td>\n",
              "      <td>Rajneesh Duggal, Adah Sharma, Indraneil Sengup...</td>\n",
              "      <td>India</td>\n",
              "      <td>December 15, 2017</td>\n",
              "      <td>2008</td>\n",
              "      <td>TV-MA</td>\n",
              "      <td>143 min</td>\n",
              "      <td>Horror Movies, International Movies, Thrillers</td>\n",
              "      <td>An architect and his wife move into a castle t...</td>\n",
              "      <td>India</td>\n",
              "    </tr>\n",
              "    <tr>\n",
              "      <th>10</th>\n",
              "      <td>s11</td>\n",
              "      <td>Movie</td>\n",
              "      <td>1922</td>\n",
              "      <td>Zak Hilditch</td>\n",
              "      <td>Thomas Jane, Molly Parker, Dylan Schmid, Kaitl...</td>\n",
              "      <td>United States</td>\n",
              "      <td>October 20, 2017</td>\n",
              "      <td>2017</td>\n",
              "      <td>TV-MA</td>\n",
              "      <td>103 min</td>\n",
              "      <td>Dramas, Thrillers</td>\n",
              "      <td>A farmer pens a confession admitting to his wi...</td>\n",
              "      <td>United States</td>\n",
              "    </tr>\n",
              "    <tr>\n",
              "      <th>11</th>\n",
              "      <td>s12</td>\n",
              "      <td>TV Show</td>\n",
              "      <td>1983</td>\n",
              "      <td>unknown</td>\n",
              "      <td>Robert WiÄckiewicz, Maciej MusiaÅ, Michalina...</td>\n",
              "      <td>Poland, United States</td>\n",
              "      <td>November 30, 2018</td>\n",
              "      <td>2018</td>\n",
              "      <td>TV-MA</td>\n",
              "      <td>1 Season</td>\n",
              "      <td>Crime TV Shows, International TV Shows, TV Dramas</td>\n",
              "      <td>In this dark alt-history thriller, a naÃ¯ve la...</td>\n",
              "      <td>Poland</td>\n",
              "    </tr>\n",
              "    <tr>\n",
              "      <th>12</th>\n",
              "      <td>s13</td>\n",
              "      <td>TV Show</td>\n",
              "      <td>1994</td>\n",
              "      <td>Diego Enrique Osorno</td>\n",
              "      <td>unknown</td>\n",
              "      <td>Mexico</td>\n",
              "      <td>May 17, 2019</td>\n",
              "      <td>2019</td>\n",
              "      <td>TV-MA</td>\n",
              "      <td>1 Season</td>\n",
              "      <td>Crime TV Shows, Docuseries, International TV S...</td>\n",
              "      <td>Archival video and new interviews examine Mexi...</td>\n",
              "      <td>Mexico</td>\n",
              "    </tr>\n",
              "    <tr>\n",
              "      <th>13</th>\n",
              "      <td>s14</td>\n",
              "      <td>Movie</td>\n",
              "      <td>2,215</td>\n",
              "      <td>Nottapon Boonprakob</td>\n",
              "      <td>Artiwara Kongmalai</td>\n",
              "      <td>Thailand</td>\n",
              "      <td>March 1, 2019</td>\n",
              "      <td>2018</td>\n",
              "      <td>TV-MA</td>\n",
              "      <td>89 min</td>\n",
              "      <td>Documentaries, International Movies, Sports Mo...</td>\n",
              "      <td>This intimate documentary follows rock star Ar...</td>\n",
              "      <td>Thailand</td>\n",
              "    </tr>\n",
              "    <tr>\n",
              "      <th>14</th>\n",
              "      <td>s15</td>\n",
              "      <td>Movie</td>\n",
              "      <td>3022</td>\n",
              "      <td>John Suits</td>\n",
              "      <td>Omar Epps, Kate Walsh, Miranda Cosgrove, Angus...</td>\n",
              "      <td>United States</td>\n",
              "      <td>March 19, 2020</td>\n",
              "      <td>2019</td>\n",
              "      <td>R</td>\n",
              "      <td>91 min</td>\n",
              "      <td>Independent Movies, Sci-Fi &amp; Fantasy, Thrillers</td>\n",
              "      <td>Stranded when the Earth is suddenly destroyed ...</td>\n",
              "      <td>United States</td>\n",
              "    </tr>\n",
              "  </tbody>\n",
              "</table>\n",
              "</div>"
            ],
            "text/plain": [
              "   show_id  ... origin_Country\n",
              "0       s1  ...         Brazil\n",
              "1       s2  ...         Mexico\n",
              "2       s3  ...      Singapore\n",
              "3       s4  ...  United States\n",
              "4       s5  ...  United States\n",
              "5       s6  ...         Turkey\n",
              "6       s7  ...          Egypt\n",
              "7       s8  ...  United States\n",
              "8       s9  ...          India\n",
              "9      s10  ...          India\n",
              "10     s11  ...  United States\n",
              "11     s12  ...         Poland\n",
              "12     s13  ...         Mexico\n",
              "13     s14  ...       Thailand\n",
              "14     s15  ...  United States\n",
              "\n",
              "[15 rows x 13 columns]"
            ]
          },
          "metadata": {},
          "execution_count": 12
        }
      ]
    },
    {
      "cell_type": "code",
      "metadata": {
        "id": "6yNMzAygawd5",
        "colab": {
          "base_uri": "https://localhost:8080/",
          "height": 506
        },
        "outputId": "8eae2535-b5cc-4af5-e8ef-5a703fb3b9d0"
      },
      "source": [
        "#Visualization: Country-wise content count\n",
        "data= netflix_df.groupby('origin_Country')['show_id'].count().sort_values(ascending=False).reset_index()\n",
        "\n",
        "plt.figure(figsize=(30,8))\n",
        "graph = plt.bar(data['origin_Country'], data['show_id'])\n",
        "\n",
        "plt.title('Country-wise content count', weight='bold', fontsize= 18)\n",
        "plt.xlabel('Country', weight='bold', fontsize= 14)\n",
        "plt.ylabel('Content Count', weight='bold', fontsize= 14)\n",
        "plt.xticks(data['origin_Country'], rotation= 90)\n",
        "labels= []\n",
        "for item in data['show_id']:\n",
        "  labels.append(item)\n",
        "\n",
        "i = 0\n",
        "for p in graph:\n",
        "    width = p.get_width()\n",
        "    height = p.get_height()\n",
        "    x, y = p.get_xy()\n",
        "    plt.text(x+width/2,\n",
        "             y+height*1.01,\n",
        "             str(labels[i]),\n",
        "             ha='center',\n",
        "             weight='bold', fontsize=10)\n",
        "    i+=1"
      ],
      "execution_count": 13,
      "outputs": [
        {
          "output_type": "display_data",
          "data": {
            "image/png": "[encoded data removed]",
            "text/plain": [
              "<Figure size 2160x576 with 1 Axes>"
            ]
          },
          "metadata": {
            "needs_background": "light"
          }
        }
      ]
    },
    {
      "cell_type": "code",
      "metadata": {
        "id": "HMgxtKTUawcB",
        "colab": {
          "base_uri": "https://localhost:8080/",
          "height": 611
        },
        "outputId": "aa0c3f6f-1f33-45ff-dff0-3bb63534d256"
      },
      "source": [
        "#Visualization: Top 10 countries with highest content production\n",
        "data= netflix_df.groupby('origin_Country')['show_id'].count().sort_values(ascending=False).reset_index().head(10)\n",
        "\n",
        "plt.figure(figsize=(30,8))\n",
        "graph = plt.bar(data['origin_Country'], data['show_id'])\n",
        "\n",
        "plt.title('Top 10 countries with highest content production', weight='bold', fontsize= 18)\n",
        "plt.xlabel('Country', weight='bold', fontsize= 14)\n",
        "plt.ylabel('Content Count', weight='bold', fontsize= 14)\n",
        "plt.xticks(data['origin_Country'], rotation= 90)\n",
        "labels= []\n",
        "for item in data['show_id']:\n",
        "  labels.append(item)\n",
        "\n",
        "i = 0\n",
        "for p in graph:\n",
        "    width = p.get_width()\n",
        "    height = p.get_height()\n",
        "    x, y = p.get_xy()\n",
        "    plt.text(x+width/2,\n",
        "             y+height*1.01,\n",
        "             str(labels[i]),\n",
        "             ha='center',\n",
        "             weight='bold', fontsize=10)\n",
        "    i+=1"
      ],
      "execution_count": 14,
      "outputs": [
        {
          "output_type": "display_data",
          "data": {
            "image/png": "[encoded data removed]",
            "text/plain": [
              "<Figure size 2160x576 with 1 Axes>"
            ]
          },
          "metadata": {
            "needs_background": "light"
          }
        }
      ]
    },
    {
      "cell_type": "markdown",
      "metadata": {
        "id": "neHlgw39rCL7"
      },
      "source": [
        "United States tops the list with the largest content creator with 3383 movies and TV shows in total, floowed by India and United Kingdom."
      ]
    },
    {
      "cell_type": "code",
      "metadata": {
        "id": "kTGrQdI4awXu",
        "colab": {
          "base_uri": "https://localhost:8080/",
          "height": 597
        },
        "outputId": "675a9a3d-acae-451a-e079-d23dd6d07e8a"
      },
      "source": [
        "#Proportion of TV Shows and Movies content in top 10 countries with maximum content\n",
        "sns.set()\n",
        "plt.figure(figsize=(10,8))\n",
        "ax=sns.countplot(x=\"origin_Country\",data= netflix_df,hue= \"type\",order = netflix_df['origin_Country'].value_counts().index[0:15])\n",
        "plt.xticks(rotation=90)\n",
        "plt.title(\"Proportion of TV Shows and Movies content in top 10 countries with maximum content\")\n",
        "plt.show()\n"
      ],
      "execution_count": 15,
      "outputs": [
        {
          "output_type": "display_data",
          "data": {
            "image/png": "[encoded data removed]",
            "text/plain": [
              "<Figure size 720x576 with 1 Axes>"
            ]
          },
          "metadata": {}
        }
      ]
    },
    {
      "cell_type": "markdown",
      "metadata": {
        "id": "H5IPzrXYuLzO"
      },
      "source": [
        "It is evident that most of the countries have higher number of movie content that TV shows with exceptions of Japan, South Korea and Taiwan."
      ]
    },
    {
      "cell_type": "code",
      "metadata": {
        "id": "wPP0559mawVy",
        "colab": {
          "base_uri": "https://localhost:8080/"
        },
        "outputId": "1bc15ca6-3c43-4342-d127-9db7397aca73"
      },
      "source": [
        "netflix_df['rating'].unique()"
      ],
      "execution_count": 17,
      "outputs": [
        {
          "output_type": "execute_result",
          "data": {
            "text/plain": [
              "array(['TV-MA', 'R', 'PG-13', 'TV-14', 'TV-PG', 'NR', 'TV-G', 'TV-Y',\n",
              "       'TV-Y7', 'PG', 'G', 'NC-17', 'TV-Y7-FV', 'UR'], dtype=object)"
            ]
          },
          "metadata": {},
          "execution_count": 17
        }
      ]
    },
    {
      "cell_type": "markdown",
      "metadata": {
        "id": "tjPcZIS7xZWF"
      },
      "source": [
        "## **Description of Content Ratings**\n",
        "\n",
        "**TV Content Ratings**\n",
        "1. TV-Y: Appropriate for all children\n",
        "2. TV-Y7: For children aged 7 and above\n",
        "3. TV-Y7-FV: For children aged 7 and above, program has more intense fantasy violence\n",
        "4. TV-G: General Audiance\n",
        "5. TV-PG: Parental Guidance Suggested\n",
        "6. TV-14: Content might be unsuitable for children under 14 years age\n",
        "7. TV-MA: Mature audiance only (above 17 years of age)\n",
        "\n",
        "**Movie Ratings**\n",
        "\n",
        "1. G: Genaral Audiance\n",
        "2. PG: Parental Guidance, some content may not be suitable for children\n",
        "3. PG-13: Some material may be inappropriate for children under 13\n",
        "4. R: Under 17 accompanying with parent/guardian will be allowed\n",
        "5. NC-17: No one 17 and under admitted\n",
        "6. NR/UR: Not rated or unrated"
      ]
    },
    {
      "cell_type": "code",
      "metadata": {
        "id": "l4OQxOYwawRp",
        "colab": {
          "base_uri": "https://localhost:8080/",
          "height": 458
        },
        "outputId": "19323574-96b4-4b33-f167-a4ef5c0d352e"
      },
      "source": [
        "#Visualization: Rating-wise content count\n",
        "data= netflix_df.groupby('rating')['show_id'].count().sort_values(ascending=False).reset_index()\n",
        "\n",
        "plt.figure(figsize=(30,8))\n",
        "graph = plt.bar(data['rating'], data['show_id'])\n",
        "\n",
        "plt.title('Rating-wise content count', weight='bold', fontsize= 18)\n",
        "plt.xlabel('Rating of the content', weight='bold', fontsize= 14)\n",
        "plt.ylabel('Content Count', weight='bold', fontsize= 14)\n",
        "plt.xticks(data['rating'], rotation= 90)\n",
        "labels= []\n",
        "for item in data['show_id']:\n",
        "  labels.append(item)\n",
        "\n",
        "i = 0\n",
        "for p in graph:\n",
        "    width = p.get_width()\n",
        "    height = p.get_height()\n",
        "    x, y = p.get_xy()\n",
        "    plt.text(x+width/2,\n",
        "             y+height*1.01,\n",
        "             str(labels[i]),\n",
        "             ha='center',\n",
        "             weight='bold', fontsize=10)\n",
        "    i+=1"
      ],
      "execution_count": 19,
      "outputs": [
        {
          "output_type": "display_data",
          "data": {
            "image/png": "[encoded data removed]",
            "text/plain": [
              "<Figure size 2160x576 with 1 Axes>"
            ]
          },
          "metadata": {}
        }
      ]
    },
    {
      "cell_type": "markdown",
      "metadata": {
        "id": "hxH2HDKA2Mrg"
      },
      "source": [
        "The highest amount of content (2868) belongs to TV-MA rating i.e. mature audience only, followed by TV-14, TV-PG. Top three content ratings with highest amount of content is TV rating category. This also shows that content appropriate for children is very less as compared to adult content."
      ]
    },
    {
      "cell_type": "markdown",
      "metadata": {
        "id": "BT-mdD8z0Ntm"
      },
      "source": [
        "Crating a new feature called 'appropriate_For', this will serve as a combined rating for both TV shows and movies."
      ]
    },
    {
      "cell_type": "code",
      "metadata": {
        "id": "01NoYZ4t0jOM"
      },
      "source": [
        "#Function to populate values for 'appropriate_For' feature\n",
        "def APPROPRIATE_FOR_WHOM (rating):\n",
        "  appropriate_For = ''\n",
        "  if (rating== 'TV-MA' or rating== 'NR' or rating=='NC-17' or rating=='UR'):\n",
        "    appropriate_For= 'Adults Only'\n",
        "  elif (rating== 'R' or rating== 'PG-13' or rating== 'TV-14'):\n",
        "    appropriate_For= 'Teenage'\n",
        "  elif (rating=='TV-Y7' or rating=='TV-Y7-FV' or rating== 'PG' or rating== 'TV-PG'):\n",
        "    appropriate_For= 'Kid_7_to_13'\n",
        "  else:\n",
        "    appropriate_For= 'Kids'\n",
        "\n",
        "  return appropriate_For"
      ],
      "execution_count": 17,
      "outputs": []
    },
    {
      "cell_type": "code",
      "metadata": {
        "id": "HhAqrqZYawPz"
      },
      "source": [
        "#Creating new column 'appropriate_For'\n",
        "netflix_df['appropriate_For'] = netflix_df.apply(lambda x: APPROPRIATE_FOR_WHOM(x['rating']), axis=1)"
      ],
      "execution_count": 18,
      "outputs": []
    },
    {
      "cell_type": "code",
      "metadata": {
        "id": "Jjmll6_4awLi",
        "colab": {
          "base_uri": "https://localhost:8080/",
          "height": 371
        },
        "outputId": "1e616bdb-95c4-4fce-b7db-aadcb2e09127"
      },
      "source": [
        "netflix_df.head()"
      ],
      "execution_count": 19,
      "outputs": [
        {
          "output_type": "execute_result",
          "data": {
            "text/html": [
              "<div>\n",
              "<style scoped>\n",
              "    .dataframe tbody tr th:only-of-type {\n",
              "        vertical-align: middle;\n",
              "    }\n",
              "\n",
              "    .dataframe tbody tr th {\n",
              "        vertical-align: top;\n",
              "    }\n",
              "\n",
              "    .dataframe thead th {\n",
              "        text-align: right;\n",
              "    }\n",
              "</style>\n",
              "<table border=\"1\" class=\"dataframe\">\n",
              "  <thead>\n",
              "    <tr style=\"text-align: right;\">\n",
              "      <th></th>\n",
              "      <th>show_id</th>\n",
              "      <th>type</th>\n",
              "      <th>title</th>\n",
              "      <th>director</th>\n",
              "      <th>cast</th>\n",
              "      <th>country</th>\n",
              "      <th>date_added</th>\n",
              "      <th>release_year</th>\n",
              "      <th>rating</th>\n",
              "      <th>duration</th>\n",
              "      <th>listed_in</th>\n",
              "      <th>description</th>\n",
              "      <th>origin_Country</th>\n",
              "      <th>appropriate_For</th>\n",
              "    </tr>\n",
              "  </thead>\n",
              "  <tbody>\n",
              "    <tr>\n",
              "      <th>0</th>\n",
              "      <td>s1</td>\n",
              "      <td>TV Show</td>\n",
              "      <td>3%</td>\n",
              "      <td>unknown</td>\n",
              "      <td>JoÃ£o Miguel, Bianca Comparato, Michel Gomes, ...</td>\n",
              "      <td>Brazil</td>\n",
              "      <td>August 14, 2020</td>\n",
              "      <td>2020</td>\n",
              "      <td>TV-MA</td>\n",
              "      <td>4 Seasons</td>\n",
              "      <td>International TV Shows, TV Dramas, TV Sci-Fi &amp;...</td>\n",
              "      <td>In a future where the elite inhabit an island ...</td>\n",
              "      <td>Brazil</td>\n",
              "      <td>Adults Only</td>\n",
              "    </tr>\n",
              "    <tr>\n",
              "      <th>1</th>\n",
              "      <td>s2</td>\n",
              "      <td>Movie</td>\n",
              "      <td>7:19</td>\n",
              "      <td>Jorge Michel Grau</td>\n",
              "      <td>DemiÃ¡n Bichir, HÃ©ctor Bonilla, Oscar Serrano...</td>\n",
              "      <td>Mexico</td>\n",
              "      <td>December 23, 2016</td>\n",
              "      <td>2016</td>\n",
              "      <td>TV-MA</td>\n",
              "      <td>93 min</td>\n",
              "      <td>Dramas, International Movies</td>\n",
              "      <td>After a devastating earthquake hits Mexico Cit...</td>\n",
              "      <td>Mexico</td>\n",
              "      <td>Adults Only</td>\n",
              "    </tr>\n",
              "    <tr>\n",
              "      <th>2</th>\n",
              "      <td>s3</td>\n",
              "      <td>Movie</td>\n",
              "      <td>23:59</td>\n",
              "      <td>Gilbert Chan</td>\n",
              "      <td>Tedd Chan, Stella Chung, Henley Hii, Lawrence ...</td>\n",
              "      <td>Singapore</td>\n",
              "      <td>December 20, 2018</td>\n",
              "      <td>2011</td>\n",
              "      <td>R</td>\n",
              "      <td>78 min</td>\n",
              "      <td>Horror Movies, International Movies</td>\n",
              "      <td>When an army recruit is found dead, his fellow...</td>\n",
              "      <td>Singapore</td>\n",
              "      <td>Teenage</td>\n",
              "    </tr>\n",
              "    <tr>\n",
              "      <th>3</th>\n",
              "      <td>s4</td>\n",
              "      <td>Movie</td>\n",
              "      <td>9</td>\n",
              "      <td>Shane Acker</td>\n",
              "      <td>Elijah Wood, John C. Reilly, Jennifer Connelly...</td>\n",
              "      <td>United States</td>\n",
              "      <td>November 16, 2017</td>\n",
              "      <td>2009</td>\n",
              "      <td>PG-13</td>\n",
              "      <td>80 min</td>\n",
              "      <td>Action &amp; Adventure, Independent Movies, Sci-Fi...</td>\n",
              "      <td>In a postapocalyptic world, rag-doll robots hi...</td>\n",
              "      <td>United States</td>\n",
              "      <td>Teenage</td>\n",
              "    </tr>\n",
              "    <tr>\n",
              "      <th>4</th>\n",
              "      <td>s5</td>\n",
              "      <td>Movie</td>\n",
              "      <td>21</td>\n",
              "      <td>Robert Luketic</td>\n",
              "      <td>Jim Sturgess, Kevin Spacey, Kate Bosworth, Aar...</td>\n",
              "      <td>United States</td>\n",
              "      <td>January 1, 2020</td>\n",
              "      <td>2008</td>\n",
              "      <td>PG-13</td>\n",
              "      <td>123 min</td>\n",
              "      <td>Dramas</td>\n",
              "      <td>A brilliant group of students become card-coun...</td>\n",
              "      <td>United States</td>\n",
              "      <td>Teenage</td>\n",
              "    </tr>\n",
              "  </tbody>\n",
              "</table>\n",
              "</div>"
            ],
            "text/plain": [
              "  show_id     type  ... origin_Country appropriate_For\n",
              "0      s1  TV Show  ...         Brazil     Adults Only\n",
              "1      s2    Movie  ...         Mexico     Adults Only\n",
              "2      s3    Movie  ...      Singapore         Teenage\n",
              "3      s4    Movie  ...  United States         Teenage\n",
              "4      s5    Movie  ...  United States         Teenage\n",
              "\n",
              "[5 rows x 14 columns]"
            ]
          },
          "metadata": {},
          "execution_count": 19
        }
      ]
    },
    {
      "cell_type": "code",
      "metadata": {
        "id": "ZurgGzZKawJ0",
        "colab": {
          "base_uri": "https://localhost:8080/",
          "height": 522
        },
        "outputId": "c65c8599-0bc1-47a5-db86-9ec618bfab36"
      },
      "source": [
        "#Count of content appropriate for defferent age groups\n",
        "data= netflix_df.groupby('appropriate_For')['show_id'].count().sort_values(ascending=False).reset_index()\n",
        "\n",
        "plt.figure(figsize=(15,8))\n",
        "graph = plt.bar(data['appropriate_For'], data['show_id'])\n",
        "\n",
        "plt.title('Count of content appropriate for defferent age groups', weight='bold', fontsize= 18)\n",
        "plt.xlabel('Age Group', weight='bold', fontsize= 14)\n",
        "plt.ylabel('Content Count', weight='bold', fontsize= 14)\n",
        "plt.xticks(data['appropriate_For'])\n",
        "labels= []\n",
        "for item in data['show_id']:\n",
        "  labels.append(item)\n",
        "\n",
        "i = 0\n",
        "for p in graph:\n",
        "    width = p.get_width()\n",
        "    height = p.get_height()\n",
        "    x, y = p.get_xy()\n",
        "    plt.text(x+width/2,\n",
        "             y+height*1.01,\n",
        "             str(labels[i]),\n",
        "             ha='center',\n",
        "             weight='bold', fontsize=10)\n",
        "    i+=1"
      ],
      "execution_count": 23,
      "outputs": [
        {
          "output_type": "display_data",
          "data": {
            "image/png": "[encoded data removed]",
            "text/plain": [
              "<Figure size 1080x576 with 1 Axes>"
            ]
          },
          "metadata": {
            "needs_background": "light"
          }
        }
      ]
    },
    {
      "cell_type": "markdown",
      "metadata": {
        "id": "kTG41jUx6tlI"
      },
      "source": [
        "Teenage and Adult content have almost equal volume, whereas the kids content is very less."
      ]
    },
    {
      "cell_type": "code",
      "metadata": {
        "id": "JS7xgKXfawD2",
        "colab": {
          "base_uri": "https://localhost:8080/",
          "height": 426
        },
        "outputId": "b7c5b319-d85d-40d2-fc3f-648da2b4ad8d"
      },
      "source": [
        "#Proportion of age-wise content in top 10 countries with maximum content\n",
        "sns.set()\n",
        "plt.figure(figsize=(30,8))\n",
        "ax=sns.countplot(x=\"origin_Country\",data= netflix_df,hue= \"appropriate_For\",order = netflix_df['origin_Country'].value_counts().index[0:15])\n",
        "plt.xticks(weight='bold')\n",
        "plt.xlabel('Country of Origin', weight='bold', fontsize=16)\n",
        "plt.ylabel('Content Count', weight='bold', fontsize=16)\n",
        "plt.title(\"Proportion of TV Shows and Movies content in top 10 countries with maximum content\", weight='bold', fontsize=16)\n",
        "plt.legend(loc='upper right', fontsize=14)\n",
        "plt.show()\n"
      ],
      "execution_count": 45,
      "outputs": [
        {
          "output_type": "display_data",
          "data": {
            "image/png": "[encoded data removed]",
            "text/plain": [
              "<Figure size 2160x576 with 1 Axes>"
            ]
          },
          "metadata": {}
        }
      ]
    },
    {
      "cell_type": "markdown",
      "metadata": {
        "id": "jYS9otHHAyBs"
      },
      "source": [
        "Except United States and India almost all other countries have higher volume of adult content and except United States all other countries have negligible amount of child content."
      ]
    },
    {
      "cell_type": "code",
      "metadata": {
        "id": "iFbi-vywBf9f"
      },
      "source": [
        ""
      ],
      "execution_count": null,
      "outputs": []
    },
    {
      "cell_type": "code",
      "metadata": {
        "colab": {
          "base_uri": "https://localhost:8080/",
          "height": 530
        },
        "id": "wRKiZAknBf5j",
        "outputId": "f2879a37-6429-4758-96d3-fd89ccf18aa5"
      },
      "source": [
        "#Visualization: Top 10 directors producing highest volume of content\n",
        "data= netflix_df.groupby('director')['show_id'].count().sort_values(ascending=False).reset_index().head(10)\n",
        "\n",
        "plt.figure(figsize=(30,8))\n",
        "graph = plt.bar(data['director'], data['show_id'])\n",
        "\n",
        "plt.title('Top 10 directors producing highest volume of content', weight='bold', fontsize= 18)\n",
        "plt.xlabel('Name of director', weight='bold', fontsize= 14)\n",
        "plt.ylabel('Content Count', weight='bold', fontsize= 14)\n",
        "plt.xticks(data['director'], rotation= 90)\n",
        "labels= []\n",
        "for item in data['show_id']:\n",
        "  labels.append(item)\n",
        "\n",
        "i = 0\n",
        "for p in graph:\n",
        "    width = p.get_width()\n",
        "    height = p.get_height()\n",
        "    x, y = p.get_xy()\n",
        "    plt.text(x+width/2,\n",
        "             y+height*1.01,\n",
        "             str(labels[i]),\n",
        "             ha='center',\n",
        "             weight='bold', fontsize=10)\n",
        "    i+=1"
      ],
      "execution_count": 46,
      "outputs": [
        {
          "output_type": "display_data",
          "data": {
            "image/png": "[encoded data removed]",
            "text/plain": [
              "<Figure size 2160x576 with 1 Axes>"
            ]
          },
          "metadata": {}
        }
      ]
    },
    {
      "cell_type": "code",
      "metadata": {
        "id": "Y-d61NhrBf3Z"
      },
      "source": [
        ""
      ],
      "execution_count": null,
      "outputs": []
    },
    {
      "cell_type": "code",
      "metadata": {
        "id": "djLbnhQ8Bfzn"
      },
      "source": [
        ""
      ],
      "execution_count": null,
      "outputs": []
    },
    {
      "cell_type": "code",
      "metadata": {
        "id": "_cJ8E0gdBfyH"
      },
      "source": [
        ""
      ],
      "execution_count": null,
      "outputs": []
    },
    {
      "cell_type": "code",
      "metadata": {
        "id": "2hwlDwB5Bftx"
      },
      "source": [
        ""
      ],
      "execution_count": null,
      "outputs": []
    },
    {
      "cell_type": "code",
      "metadata": {
        "id": "ZUpHqLBEBfrx"
      },
      "source": [
        ""
      ],
      "execution_count": null,
      "outputs": []
    },
    {
      "cell_type": "code",
      "metadata": {
        "id": "S9Ie39TUBfn0"
      },
      "source": [
        ""
      ],
      "execution_count": null,
      "outputs": []
    },
    {
      "cell_type": "code",
      "metadata": {
        "id": "kR-xNdJvBflz"
      },
      "source": [
        ""
      ],
      "execution_count": null,
      "outputs": []
    },
    {
      "cell_type": "code",
      "metadata": {
        "id": "4MlOMX3YBfhy"
      },
      "source": [
        ""
      ],
      "execution_count": null,
      "outputs": []
    },
    {
      "cell_type": "code",
      "metadata": {
        "id": "EHrahWlgBfgF"
      },
      "source": [
        ""
      ],
      "execution_count": null,
      "outputs": []
    },
    {
      "cell_type": "code",
      "metadata": {
        "id": "SAaEqCtiBfb2"
      },
      "source": [
        ""
      ],
      "execution_count": null,
      "outputs": []
    },
    {
      "cell_type": "code",
      "metadata": {
        "id": "92qiuNvMBfaC"
      },
      "source": [
        ""
      ],
      "execution_count": null,
      "outputs": []
    },
    {
      "cell_type": "code",
      "metadata": {
        "id": "11xl1HslBfW9"
      },
      "source": [
        ""
      ],
      "execution_count": null,
      "outputs": []
    },
    {
      "cell_type": "code",
      "metadata": {
        "id": "OpT41uwCBfUy"
      },
      "source": [
        ""
      ],
      "execution_count": null,
      "outputs": []
    }
  ]
}